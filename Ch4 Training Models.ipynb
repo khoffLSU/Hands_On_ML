{
 "cells": [
  {
   "cell_type": "markdown",
   "id": "2df170e7",
   "metadata": {},
   "source": [
    "## Ch 4 Training Models\n",
    "Up to this point, models have been deployed as Black Box solutions.  Without really knowing anything about the underlying model, the solution was deployed, trained and optimized.  It is feasible to continue to conduct modeling in this way, but to truly find alignment between model algorithm and problems in the real world, it is helpful to understand how the algorithms work under the hood.\n",
    "\n",
    "### Linear Regression\n",
    "Linear Regression is one of the simplest models to deploy and understand.  While $y = m*x + b$ may be a familiar form, when moving into the vectorized mathmatics, things get a bit more in depth and complex.  Mathmatic notation will be present throughout these explanations, and may sometimes create confusion.  In those instances it is recommended to seek other references to help navigate the choppier waters.\n",
    "\n",
    "There are two very different ways to train a linear regression model, which will be covered in this review:\n",
    "- Using a direct closed form solution that directly computes the model parameters which best fit the model\n",
    "- Using and iterative optimization process called Gradient Descent (GD) which gradually adjusts the model parameters to minimize the cost function over the training set until eventually converging to the same set of parameters as the first method. There are a number of varients, and GD will be featured heavily in Neural networks where there is not ability to directly compute model parameters.\n",
    "\n",
    "Previously linear regression was leveraged to determine a simple linear model for life satisfaction:\n",
    "\n",
    "$ LifeSatifaction = \\theta_0 + \\theta_1 \\cdot GDP\\_per\\_capita$\n",
    "\n",
    "While this seems a complicated recreation of the traditional equation of a line, a bit on translation can assist in demistifying the terminology. \n",
    "- The $\\theta$'s are the model parameters.  \n",
    "- The intercept in the tradition terminology is the $\\theta_0$ term\n",
    "- The GDP_per_capita is our x, and $\\theta_1$ is the coefficient, also called the weighting term for the sum.\n",
    "\n",
    "A linear model makes a prediction by computing a weighted sum of input features (GDP_per_capita) and $\\theta$ to determine a predition of the target value.  This is the generic form of a liner model.\n",
    "\n",
    "$\\hat{y} = \\theta_0 + {\\theta_1}{x_1} + {\\theta_2}{x_2} + ... + {\\theta_n}{x_n}$\n",
    "\n",
    "This can be rewritten in the vectorized for more concisely.  This means that the various features and weights are converted into arrays for vectorized mathmatics as a shorthand in places of the long form.\n",
    "\n",
    "$\\hat{y} = {h_\\theta}{x} = {\\theta}\\cdot{x}$\n",
    "\n",
    "- $\\theta$ is the model's parameter vector including the intercept. \n",
    "- $x$ is the instances feature vector, containing $x_0 \\dots x_n$, with $x_0$ always equal to 1\n",
    "- $\\theta \\cdot x$ is the dot product of the two vectors which is equal to the long form of the weights times their feature vector.\n",
    "\n",
    ">**NOTE**: The vectorized form can use either dot product notation as shown or matrix mulitplication, which transposes the first term.  This would result in $\\hat{y} = {\\theta^T}\\cdot{x}$ as the written form.  This means that the result is a matrix in place of a scalar.  While it yields the same answer in a single cell matrix, when making multiple predictions, this approach will make more sense in the long run. [Difference between dot product and matrix multiplication](https://mkang32.github.io/python/2020/08/23/dot-product.html#:~:text=Matrix%20multiplication%20is%20basically%20a,of%20vectors%20in%20each%20matrix.)"
   ]
  },
  {
   "cell_type": "markdown",
   "id": "39427ae6",
   "metadata": {},
   "source": [
    "### Training the model\n",
    "To train the model, we continue to modify the parameters until it achieves the best fit of the training data.  The measure of fit for a regression model to the data is evaluated using the Root Mean Square Error or RMSE.  The goal is to find a $\\theta$ vector that minimizes RMSE.  In practice it is easier to use the Mean Squared Error (MSE) to avoid negative numbers in the analysis.  \n",
    "\n",
    "The MSE cost function for a linear regression model:\n",
    "\n",
    "$ MSE(X, h_\\theta) = \\frac{1}{m}\\displaystyle\\sum_{i=1}^{m}(\\theta^Tx^{i} - y^{i})^2$\n",
    "\n",
    "### The Normal Equation\n",
    "There happens to be a closed form solution to finding the $\\theta$ value which minimizes the cost function.  This will provide the result directly for a linear regression problem to the correct parameter values.\n",
    "\n",
    "$\\hat{\\theta} = (X^TX)^{-1}\\cdot X^Ty$"
   ]
  },
  {
   "cell_type": "code",
   "execution_count": 1,
   "id": "2fd08350",
   "metadata": {},
   "outputs": [],
   "source": [
    "import pandas as pd\n",
    "import numpy as np\n",
    "import sketch"
   ]
  },
  {
   "cell_type": "code",
   "execution_count": 2,
   "id": "a8c30e3e",
   "metadata": {},
   "outputs": [
    {
     "name": "stderr",
     "output_type": "stream",
     "text": [
      "Bad value in file WindowsPath('C:/Users/KNHOFFM/.matplotlib/stylelib/xom.mplstyle'), line 11 ('lines.color: #0C479D'): Key lines.color: '' does not look like a color arg\n",
      "Bad value in file WindowsPath('C:/Users/KNHOFFM/.matplotlib/stylelib/xom.mplstyle'), line 15 ('patch.edgecolor: #FFFFFF'): Key patch.edgecolor: '' does not look like a color arg\n",
      "Bad value in file WindowsPath('C:/Users/KNHOFFM/.matplotlib/stylelib/xom.mplstyle'), line 16 ('patch.facecolor: #0C479D'): Key patch.facecolor: '' does not look like a color arg\n"
     ]
    }
   ],
   "source": [
    "import matplotlib as mpl\n",
    "import matplotlib.pyplot as plt"
   ]
  },
  {
   "cell_type": "code",
   "execution_count": 6,
   "id": "9f9bb77a",
   "metadata": {},
   "outputs": [
    {
     "data": {
      "image/png": "[encoded data removed]",
      "text/plain": [
       "<Figure size 640x480 with 1 Axes>"
      ]
     },
     "metadata": {},
     "output_type": "display_data"
    }
   ],
   "source": [
    "# generate some data for a test\n",
    "X = 2 * np.random.rand(100, 1)\n",
    "y = 4 + 3 * X + np.random.randn(100, 1)\n",
    "plt.plot(X, y, marker='.', linestyle='');"
   ]
  },
  {
   "cell_type": "code",
   "execution_count": 7,
   "id": "02983131",
   "metadata": {},
   "outputs": [],
   "source": [
    "# Computing theta requires X_b to have xO to each instance\n",
    "X_b = np.c_[np.ones((100,1)),X] # adds one to each feature vector"
   ]
  },
  {
   "cell_type": "code",
   "execution_count": 11,
   "id": "787030d0",
   "metadata": {},
   "outputs": [],
   "source": [
    "theta_best = np.linalg.inv(X_b.T.dot(X_b)).dot(X_b.T).dot(y)"
   ]
  },
  {
   "cell_type": "code",
   "execution_count": 12,
   "id": "2a02387e",
   "metadata": {},
   "outputs": [
    {
     "data": {
      "text/plain": [
       "array([[4.04513249],\n",
       "       [2.77707861]])"
      ]
     },
     "execution_count": 12,
     "metadata": {},
     "output_type": "execute_result"
    }
   ],
   "source": [
    "theta_best # original equation had 4 and 3, but the noise added caused the values to diverge"
   ]
  },
  {
   "cell_type": "markdown",
   "id": "b7851144",
   "metadata": {},
   "source": [
    "### Use parameters to predict\n",
    "Now the calculated theta parameters can be used to predict new values. For this we must create a new set of feature values which does not have a target value and predict using the theta parameters."
   ]
  },
  {
   "cell_type": "code",
   "execution_count": 13,
   "id": "d54b28f8",
   "metadata": {},
   "outputs": [],
   "source": [
    "X_new = np.array([[0], [2]])\n",
    "X_new_b = np.c_[np.ones((2,1)),X_new]"
   ]
  },
  {
   "cell_type": "code",
   "execution_count": 14,
   "id": "06f6ef7d",
   "metadata": {},
   "outputs": [],
   "source": [
    "y_predict = X_new_b.dot(theta_best)"
   ]
  },
  {
   "cell_type": "code",
   "execution_count": 15,
   "id": "abdc3f62",
   "metadata": {},
   "outputs": [
    {
     "data": {
      "text/plain": [
       "array([[4.04513249],\n",
       "       [9.59928971]])"
      ]
     },
     "execution_count": 15,
     "metadata": {},
     "output_type": "execute_result"
    }
   ],
   "source": [
    "y_predict"
   ]
  },
  {
   "cell_type": "code",
   "execution_count": 16,
   "id": "709917e7",
   "metadata": {},
   "outputs": [
    {
     "data": {
      "image/png": "[encoded data removed]",
      "text/plain": [
       "<Figure size 640x480 with 1 Axes>"
      ]
     },
     "metadata": {},
     "output_type": "display_data"
    }
   ],
   "source": [
    "plt.plot(X_new, y_predict, \"r--\")\n",
    "plt.plot(X, y, \"b.\")\n",
    "plt.axis([0, 2, 0, 15])\n",
    "plt.show()"
   ]
  },
  {
   "cell_type": "markdown",
   "id": "b5f3edbd",
   "metadata": {},
   "source": [
    "### Performing same regression with Scikit Learn\n",
    "Scikit learn packages away all of the vectorized mathmatics making the same exercise posible in only a few lines of code.  This is broken out into intermediate cells so the values can be inspected and predictive completion is available after instantiation of the code."
   ]
  },
  {
   "cell_type": "code",
   "execution_count": 17,
   "id": "fec7c57c",
   "metadata": {},
   "outputs": [],
   "source": [
    "from sklearn.linear_model import LinearRegression"
   ]
  },
  {
   "cell_type": "code",
   "execution_count": 18,
   "id": "16bf7703",
   "metadata": {},
   "outputs": [],
   "source": [
    "lin_reg = LinearRegression()"
   ]
  },
  {
   "cell_type": "code",
   "execution_count": 19,
   "id": "ab894459",
   "metadata": {},
   "outputs": [
    {
     "data": {
      "text/html": [
       "<style>#sk-container-id-1 {color: black;background-color: white;}#sk-container-id-1 pre{padding: 0;}#sk-container-id-1 div.sk-toggleable {background-color: white;}#sk-container-id-1 label.sk-toggleable__label {cursor: pointer;display: block;width: 100%;margin-bottom: 0;padding: 0.3em;box-sizing: border-box;text-align: center;}#sk-container-id-1 label.sk-toggleable__label-arrow:before {content: \"▸\";float: left;margin-right: 0.25em;color: #696969;}#sk-container-id-1 label.sk-toggleable__label-arrow:hover:before {color: black;}#sk-container-id-1 div.sk-estimator:hover label.sk-toggleable__label-arrow:before {color: black;}#sk-container-id-1 div.sk-toggleable__content {max-height: 0;max-width: 0;overflow: hidden;text-align: left;background-color: #f0f8ff;}#sk-container-id-1 div.sk-toggleable__content pre {margin: 0.2em;color: black;border-radius: 0.25em;background-color: #f0f8ff;}#sk-container-id-1 input.sk-toggleable__control:checked~div.sk-toggleable__content {max-height: 200px;max-width: 100%;overflow: auto;}#sk-container-id-1 input.sk-toggleable__control:checked~label.sk-toggleable__label-arrow:before {content: \"▾\";}#sk-container-id-1 div.sk-estimator input.sk-toggleable__control:checked~label.sk-toggleable__label {background-color: #d4ebff;}#sk-container-id-1 div.sk-label input.sk-toggleable__control:checked~label.sk-toggleable__label {background-color: #d4ebff;}#sk-container-id-1 input.sk-hidden--visually {border: 0;clip: rect(1px 1px 1px 1px);clip: rect(1px, 1px, 1px, 1px);height: 1px;margin: -1px;overflow: hidden;padding: 0;position: absolute;width: 1px;}#sk-container-id-1 div.sk-estimator {font-family: monospace;background-color: #f0f8ff;border: 1px dotted black;border-radius: 0.25em;box-sizing: border-box;margin-bottom: 0.5em;}#sk-container-id-1 div.sk-estimator:hover {background-color: #d4ebff;}#sk-container-id-1 div.sk-parallel-item::after {content: \"\";width: 100%;border-bottom: 1px solid gray;flex-grow: 1;}#sk-container-id-1 div.sk-label:hover label.sk-toggleable__label {background-color: #d4ebff;}#sk-container-id-1 div.sk-serial::before {content: \"\";position: absolute;border-left: 1px solid gray;box-sizing: border-box;top: 0;bottom: 0;left: 50%;z-index: 0;}#sk-container-id-1 div.sk-serial {display: flex;flex-direction: column;align-items: center;background-color: white;padding-right: 0.2em;padding-left: 0.2em;position: relative;}#sk-container-id-1 div.sk-item {position: relative;z-index: 1;}#sk-container-id-1 div.sk-parallel {display: flex;align-items: stretch;justify-content: center;background-color: white;position: relative;}#sk-container-id-1 div.sk-item::before, #sk-container-id-1 div.sk-parallel-item::before {content: \"\";position: absolute;border-left: 1px solid gray;box-sizing: border-box;top: 0;bottom: 0;left: 50%;z-index: -1;}#sk-container-id-1 div.sk-parallel-item {display: flex;flex-direction: column;z-index: 1;position: relative;background-color: white;}#sk-container-id-1 div.sk-parallel-item:first-child::after {align-self: flex-end;width: 50%;}#sk-container-id-1 div.sk-parallel-item:last-child::after {align-self: flex-start;width: 50%;}#sk-container-id-1 div.sk-parallel-item:only-child::after {width: 0;}#sk-container-id-1 div.sk-dashed-wrapped {border: 1px dashed gray;margin: 0 0.4em 0.5em 0.4em;box-sizing: border-box;padding-bottom: 0.4em;background-color: white;}#sk-container-id-1 div.sk-label label {font-family: monospace;font-weight: bold;display: inline-block;line-height: 1.2em;}#sk-container-id-1 div.sk-label-container {text-align: center;}#sk-container-id-1 div.sk-container {/* jupyter's `normalize.less` sets `[hidden] { display: none; }` but bootstrap.min.css set `[hidden] { display: none !important; }` so we also need the `!important` here to be able to override the default hidden behavior on the sphinx rendered scikit-learn.org. See: https://github.com/scikit-learn/scikit-learn/issues/21755 */display: inline-block !important;position: relative;}#sk-container-id-1 div.sk-text-repr-fallback {display: none;}</style><div id=\"sk-container-id-1\" class=\"sk-top-container\"><div class=\"sk-text-repr-fallback\"><pre>LinearRegression()</pre><b>In a Jupyter environment, please rerun this cell to show the HTML representation or trust the notebook. <br />On GitHub, the HTML representation is unable to render, please try loading this page with nbviewer.org.</b></div><div class=\"sk-container\" hidden><div class=\"sk-item\"><div class=\"sk-estimator sk-toggleable\"><input class=\"sk-toggleable__control sk-hidden--visually\" id=\"sk-estimator-id-1\" type=\"checkbox\" checked><label for=\"sk-estimator-id-1\" class=\"sk-toggleable__label sk-toggleable__label-arrow\">LinearRegression</label><div class=\"sk-toggleable__content\"><pre>LinearRegression()</pre></div></div></div></div></div>"
      ],
      "text/plain": [
       "LinearRegression()"
      ]
     },
     "execution_count": 19,
     "metadata": {},
     "output_type": "execute_result"
    }
   ],
   "source": [
    "lin_reg.fit(X, y) # matrix multiplication within the normal equation happens here"
   ]
  },
  {
   "cell_type": "code",
   "execution_count": 20,
   "id": "60f0a50d",
   "metadata": {},
   "outputs": [
    {
     "data": {
      "text/plain": [
       "(array([4.04513249]), array([[2.77707861]]))"
      ]
     },
     "execution_count": 20,
     "metadata": {},
     "output_type": "execute_result"
    }
   ],
   "source": [
    "lin_reg.intercept_, lin_reg.coef_ # model parameters"
   ]
  },
  {
   "cell_type": "code",
   "execution_count": 21,
   "id": "fa5bf5d7",
   "metadata": {},
   "outputs": [
    {
     "data": {
      "text/plain": [
       "array([[4.04513249],\n",
       "       [9.59928971]])"
      ]
     },
     "execution_count": 21,
     "metadata": {},
     "output_type": "execute_result"
    }
   ],
   "source": [
    "lin_reg.predict(X_new) # And now there is a nice prediction"
   ]
  },
  {
   "cell_type": "code",
   "execution_count": null,
   "id": "e77ee6b7",
   "metadata": {},
   "outputs": [],
   "source": []
  }
 ],
 "metadata": {
  "kernelspec": {
   "display_name": "Python 3 (ipykernel)",
   "language": "python",
   "name": "python3"
  },
  "language_info": {
   "codemirror_mode": {
    "name": "ipython",
    "version": 3
   },
   "file_extension": ".py",
   "mimetype": "text/x-python",
   "name": "python",
   "nbconvert_exporter": "python",
   "pygments_lexer": "ipython3",
   "version": "3.9.1"
  }
 },
 "nbformat": 4,
 "nbformat_minor": 5
}
