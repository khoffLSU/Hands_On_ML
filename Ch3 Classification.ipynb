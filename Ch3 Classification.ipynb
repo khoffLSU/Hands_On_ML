{
 "cells": [
  {
   "cell_type": "markdown",
   "id": "2df170e7",
   "metadata": {},
   "source": [
    "## Ch 3 Classification\n",
    "Moving from regression to classification, the focus is moved from predicting a value on a continuous spectrum to predicting a value on a closed spectrum.  This is considered a classification problem where classes are predicted.  There are algorithms which can be used for both, and others which specialize in the classifiation domain.\n",
    "\n",
    "[Github repo](https://github.com/ageron/handson-ml2)\n",
    "\n",
    "### Dataset: MNIST\n",
    "The MNIST dataset is a set of 70000 small images of handwritten digits by highschool students and employees of the US Census Bureau.  Each image if labeled with the digit it represents.  This has been studied so much it is often referred to as the \"hello world\" of the machine learning space.  It is often used as a baseline test for new classification algorithms. Sklearn offers many helper functions to access datasets, and MNIST is one of the datasets.  "
   ]
  },
  {
   "cell_type": "code",
   "execution_count": 1,
   "id": "2fd08350",
   "metadata": {},
   "outputs": [],
   "source": [
    "import pandas as pd\n",
    "import numpy as np\n",
    "import sketch"
   ]
  },
  {
   "cell_type": "code",
   "execution_count": 2,
   "id": "a8c30e3e",
   "metadata": {},
   "outputs": [
    {
     "name": "stderr",
     "output_type": "stream",
     "text": [
      "Bad value in file WindowsPath('C:/Users/KNHOFFM/.matplotlib/stylelib/xom.mplstyle'), line 11 ('lines.color: #0C479D'): Key lines.color: '' does not look like a color arg\n",
      "Bad value in file WindowsPath('C:/Users/KNHOFFM/.matplotlib/stylelib/xom.mplstyle'), line 15 ('patch.edgecolor: #FFFFFF'): Key patch.edgecolor: '' does not look like a color arg\n",
      "Bad value in file WindowsPath('C:/Users/KNHOFFM/.matplotlib/stylelib/xom.mplstyle'), line 16 ('patch.facecolor: #0C479D'): Key patch.facecolor: '' does not look like a color arg\n"
     ]
    }
   ],
   "source": [
    "import matplotlib as mpl\n",
    "import matplotlib.pyplot as plt"
   ]
  },
  {
   "cell_type": "code",
   "execution_count": 3,
   "id": "88389fdf",
   "metadata": {},
   "outputs": [],
   "source": [
    "from sklearn.datasets import fetch_openml # data get function"
   ]
  },
  {
   "cell_type": "code",
   "execution_count": 4,
   "id": "571368c8",
   "metadata": {},
   "outputs": [],
   "source": [
    "mnist = fetch_openml('mnist_784', version=1, parser = 'auto')"
   ]
  },
  {
   "cell_type": "code",
   "execution_count": 5,
   "id": "96309da4",
   "metadata": {},
   "outputs": [
    {
     "data": {
      "text/plain": [
       "dict_keys(['data', 'target', 'frame', 'categories', 'feature_names', 'target_names', 'DESCR', 'details', 'url'])"
      ]
     },
     "execution_count": 5,
     "metadata": {},
     "output_type": "execute_result"
    }
   ],
   "source": [
    "mnist.keys()"
   ]
  },
  {
   "cell_type": "markdown",
   "id": "03767d8f",
   "metadata": {},
   "source": [
    "### Common datastructure\n",
    "Sci-Kit learn datastructures are typically dictionaries.  Normally they will contain the following:\n",
    "- data: An array containing one row per instance and one column per feature\n",
    "- target: A vector/array containing the labels\n",
    "- DESCR: description of the dataset.\n",
    "- The remaining options can be explored for more details."
   ]
  },
  {
   "cell_type": "code",
   "execution_count": 6,
   "id": "60a7c0ec",
   "metadata": {},
   "outputs": [
    {
     "data": {
      "text/html": [
       "<div>\n",
       "<style scoped>\n",
       "    .dataframe tbody tr th:only-of-type {\n",
       "        vertical-align: middle;\n",
       "    }\n",
       "\n",
       "    .dataframe tbody tr th {\n",
       "        vertical-align: top;\n",
       "    }\n",
       "\n",
       "    .dataframe thead th {\n",
       "        text-align: right;\n",
       "    }\n",
       "</style>\n",
       "<table border=\"1\" class=\"dataframe\">\n",
       "  <thead>\n",
       "    <tr style=\"text-align: right;\">\n",
       "      <th></th>\n",
       "      <th>pixel1</th>\n",
       "      <th>pixel2</th>\n",
       "      <th>pixel3</th>\n",
       "      <th>pixel4</th>\n",
       "      <th>pixel5</th>\n",
       "      <th>pixel6</th>\n",
       "      <th>pixel7</th>\n",
       "      <th>pixel8</th>\n",
       "      <th>pixel9</th>\n",
       "      <th>pixel10</th>\n",
       "      <th>...</th>\n",
       "      <th>pixel776</th>\n",
       "      <th>pixel777</th>\n",
       "      <th>pixel778</th>\n",
       "      <th>pixel779</th>\n",
       "      <th>pixel780</th>\n",
       "      <th>pixel781</th>\n",
       "      <th>pixel782</th>\n",
       "      <th>pixel783</th>\n",
       "      <th>pixel784</th>\n",
       "      <th>class</th>\n",
       "    </tr>\n",
       "  </thead>\n",
       "  <tbody>\n",
       "    <tr>\n",
       "      <th>0</th>\n",
       "      <td>0</td>\n",
       "      <td>0</td>\n",
       "      <td>0</td>\n",
       "      <td>0</td>\n",
       "      <td>0</td>\n",
       "      <td>0</td>\n",
       "      <td>0</td>\n",
       "      <td>0</td>\n",
       "      <td>0</td>\n",
       "      <td>0</td>\n",
       "      <td>...</td>\n",
       "      <td>0</td>\n",
       "      <td>0</td>\n",
       "      <td>0</td>\n",
       "      <td>0</td>\n",
       "      <td>0</td>\n",
       "      <td>0</td>\n",
       "      <td>0</td>\n",
       "      <td>0</td>\n",
       "      <td>0</td>\n",
       "      <td>5</td>\n",
       "    </tr>\n",
       "    <tr>\n",
       "      <th>1</th>\n",
       "      <td>0</td>\n",
       "      <td>0</td>\n",
       "      <td>0</td>\n",
       "      <td>0</td>\n",
       "      <td>0</td>\n",
       "      <td>0</td>\n",
       "      <td>0</td>\n",
       "      <td>0</td>\n",
       "      <td>0</td>\n",
       "      <td>0</td>\n",
       "      <td>...</td>\n",
       "      <td>0</td>\n",
       "      <td>0</td>\n",
       "      <td>0</td>\n",
       "      <td>0</td>\n",
       "      <td>0</td>\n",
       "      <td>0</td>\n",
       "      <td>0</td>\n",
       "      <td>0</td>\n",
       "      <td>0</td>\n",
       "      <td>0</td>\n",
       "    </tr>\n",
       "    <tr>\n",
       "      <th>2</th>\n",
       "      <td>0</td>\n",
       "      <td>0</td>\n",
       "      <td>0</td>\n",
       "      <td>0</td>\n",
       "      <td>0</td>\n",
       "      <td>0</td>\n",
       "      <td>0</td>\n",
       "      <td>0</td>\n",
       "      <td>0</td>\n",
       "      <td>0</td>\n",
       "      <td>...</td>\n",
       "      <td>0</td>\n",
       "      <td>0</td>\n",
       "      <td>0</td>\n",
       "      <td>0</td>\n",
       "      <td>0</td>\n",
       "      <td>0</td>\n",
       "      <td>0</td>\n",
       "      <td>0</td>\n",
       "      <td>0</td>\n",
       "      <td>4</td>\n",
       "    </tr>\n",
       "    <tr>\n",
       "      <th>3</th>\n",
       "      <td>0</td>\n",
       "      <td>0</td>\n",
       "      <td>0</td>\n",
       "      <td>0</td>\n",
       "      <td>0</td>\n",
       "      <td>0</td>\n",
       "      <td>0</td>\n",
       "      <td>0</td>\n",
       "      <td>0</td>\n",
       "      <td>0</td>\n",
       "      <td>...</td>\n",
       "      <td>0</td>\n",
       "      <td>0</td>\n",
       "      <td>0</td>\n",
       "      <td>0</td>\n",
       "      <td>0</td>\n",
       "      <td>0</td>\n",
       "      <td>0</td>\n",
       "      <td>0</td>\n",
       "      <td>0</td>\n",
       "      <td>1</td>\n",
       "    </tr>\n",
       "    <tr>\n",
       "      <th>4</th>\n",
       "      <td>0</td>\n",
       "      <td>0</td>\n",
       "      <td>0</td>\n",
       "      <td>0</td>\n",
       "      <td>0</td>\n",
       "      <td>0</td>\n",
       "      <td>0</td>\n",
       "      <td>0</td>\n",
       "      <td>0</td>\n",
       "      <td>0</td>\n",
       "      <td>...</td>\n",
       "      <td>0</td>\n",
       "      <td>0</td>\n",
       "      <td>0</td>\n",
       "      <td>0</td>\n",
       "      <td>0</td>\n",
       "      <td>0</td>\n",
       "      <td>0</td>\n",
       "      <td>0</td>\n",
       "      <td>0</td>\n",
       "      <td>9</td>\n",
       "    </tr>\n",
       "    <tr>\n",
       "      <th>...</th>\n",
       "      <td>...</td>\n",
       "      <td>...</td>\n",
       "      <td>...</td>\n",
       "      <td>...</td>\n",
       "      <td>...</td>\n",
       "      <td>...</td>\n",
       "      <td>...</td>\n",
       "      <td>...</td>\n",
       "      <td>...</td>\n",
       "      <td>...</td>\n",
       "      <td>...</td>\n",
       "      <td>...</td>\n",
       "      <td>...</td>\n",
       "      <td>...</td>\n",
       "      <td>...</td>\n",
       "      <td>...</td>\n",
       "      <td>...</td>\n",
       "      <td>...</td>\n",
       "      <td>...</td>\n",
       "      <td>...</td>\n",
       "      <td>...</td>\n",
       "    </tr>\n",
       "    <tr>\n",
       "      <th>69995</th>\n",
       "      <td>0</td>\n",
       "      <td>0</td>\n",
       "      <td>0</td>\n",
       "      <td>0</td>\n",
       "      <td>0</td>\n",
       "      <td>0</td>\n",
       "      <td>0</td>\n",
       "      <td>0</td>\n",
       "      <td>0</td>\n",
       "      <td>0</td>\n",
       "      <td>...</td>\n",
       "      <td>0</td>\n",
       "      <td>0</td>\n",
       "      <td>0</td>\n",
       "      <td>0</td>\n",
       "      <td>0</td>\n",
       "      <td>0</td>\n",
       "      <td>0</td>\n",
       "      <td>0</td>\n",
       "      <td>0</td>\n",
       "      <td>2</td>\n",
       "    </tr>\n",
       "    <tr>\n",
       "      <th>69996</th>\n",
       "      <td>0</td>\n",
       "      <td>0</td>\n",
       "      <td>0</td>\n",
       "      <td>0</td>\n",
       "      <td>0</td>\n",
       "      <td>0</td>\n",
       "      <td>0</td>\n",
       "      <td>0</td>\n",
       "      <td>0</td>\n",
       "      <td>0</td>\n",
       "      <td>...</td>\n",
       "      <td>0</td>\n",
       "      <td>0</td>\n",
       "      <td>0</td>\n",
       "      <td>0</td>\n",
       "      <td>0</td>\n",
       "      <td>0</td>\n",
       "      <td>0</td>\n",
       "      <td>0</td>\n",
       "      <td>0</td>\n",
       "      <td>3</td>\n",
       "    </tr>\n",
       "    <tr>\n",
       "      <th>69997</th>\n",
       "      <td>0</td>\n",
       "      <td>0</td>\n",
       "      <td>0</td>\n",
       "      <td>0</td>\n",
       "      <td>0</td>\n",
       "      <td>0</td>\n",
       "      <td>0</td>\n",
       "      <td>0</td>\n",
       "      <td>0</td>\n",
       "      <td>0</td>\n",
       "      <td>...</td>\n",
       "      <td>0</td>\n",
       "      <td>0</td>\n",
       "      <td>0</td>\n",
       "      <td>0</td>\n",
       "      <td>0</td>\n",
       "      <td>0</td>\n",
       "      <td>0</td>\n",
       "      <td>0</td>\n",
       "      <td>0</td>\n",
       "      <td>4</td>\n",
       "    </tr>\n",
       "    <tr>\n",
       "      <th>69998</th>\n",
       "      <td>0</td>\n",
       "      <td>0</td>\n",
       "      <td>0</td>\n",
       "      <td>0</td>\n",
       "      <td>0</td>\n",
       "      <td>0</td>\n",
       "      <td>0</td>\n",
       "      <td>0</td>\n",
       "      <td>0</td>\n",
       "      <td>0</td>\n",
       "      <td>...</td>\n",
       "      <td>0</td>\n",
       "      <td>0</td>\n",
       "      <td>0</td>\n",
       "      <td>0</td>\n",
       "      <td>0</td>\n",
       "      <td>0</td>\n",
       "      <td>0</td>\n",
       "      <td>0</td>\n",
       "      <td>0</td>\n",
       "      <td>5</td>\n",
       "    </tr>\n",
       "    <tr>\n",
       "      <th>69999</th>\n",
       "      <td>0</td>\n",
       "      <td>0</td>\n",
       "      <td>0</td>\n",
       "      <td>0</td>\n",
       "      <td>0</td>\n",
       "      <td>0</td>\n",
       "      <td>0</td>\n",
       "      <td>0</td>\n",
       "      <td>0</td>\n",
       "      <td>0</td>\n",
       "      <td>...</td>\n",
       "      <td>0</td>\n",
       "      <td>0</td>\n",
       "      <td>0</td>\n",
       "      <td>0</td>\n",
       "      <td>0</td>\n",
       "      <td>0</td>\n",
       "      <td>0</td>\n",
       "      <td>0</td>\n",
       "      <td>0</td>\n",
       "      <td>6</td>\n",
       "    </tr>\n",
       "  </tbody>\n",
       "</table>\n",
       "<p>70000 rows × 785 columns</p>\n",
       "</div>"
      ],
      "text/plain": [
       "       pixel1  pixel2  pixel3  pixel4  pixel5  pixel6  pixel7  pixel8  pixel9   \n",
       "0           0       0       0       0       0       0       0       0       0  \\\n",
       "1           0       0       0       0       0       0       0       0       0   \n",
       "2           0       0       0       0       0       0       0       0       0   \n",
       "3           0       0       0       0       0       0       0       0       0   \n",
       "4           0       0       0       0       0       0       0       0       0   \n",
       "...       ...     ...     ...     ...     ...     ...     ...     ...     ...   \n",
       "69995       0       0       0       0       0       0       0       0       0   \n",
       "69996       0       0       0       0       0       0       0       0       0   \n",
       "69997       0       0       0       0       0       0       0       0       0   \n",
       "69998       0       0       0       0       0       0       0       0       0   \n",
       "69999       0       0       0       0       0       0       0       0       0   \n",
       "\n",
       "       pixel10  ...  pixel776  pixel777  pixel778  pixel779  pixel780   \n",
       "0            0  ...         0         0         0         0         0  \\\n",
       "1            0  ...         0         0         0         0         0   \n",
       "2            0  ...         0         0         0         0         0   \n",
       "3            0  ...         0         0         0         0         0   \n",
       "4            0  ...         0         0         0         0         0   \n",
       "...        ...  ...       ...       ...       ...       ...       ...   \n",
       "69995        0  ...         0         0         0         0         0   \n",
       "69996        0  ...         0         0         0         0         0   \n",
       "69997        0  ...         0         0         0         0         0   \n",
       "69998        0  ...         0         0         0         0         0   \n",
       "69999        0  ...         0         0         0         0         0   \n",
       "\n",
       "       pixel781  pixel782  pixel783  pixel784  class  \n",
       "0             0         0         0         0      5  \n",
       "1             0         0         0         0      0  \n",
       "2             0         0         0         0      4  \n",
       "3             0         0         0         0      1  \n",
       "4             0         0         0         0      9  \n",
       "...         ...       ...       ...       ...    ...  \n",
       "69995         0         0         0         0      2  \n",
       "69996         0         0         0         0      3  \n",
       "69997         0         0         0         0      4  \n",
       "69998         0         0         0         0      5  \n",
       "69999         0         0         0         0      6  \n",
       "\n",
       "[70000 rows x 785 columns]"
      ]
     },
     "execution_count": 6,
     "metadata": {},
     "output_type": "execute_result"
    }
   ],
   "source": [
    "mnist.frame # returns dataframe of the data"
   ]
  },
  {
   "cell_type": "code",
   "execution_count": 7,
   "id": "b0b1e4f5",
   "metadata": {},
   "outputs": [
    {
     "data": {
      "text/plain": [
       "{'id': '554',\n",
       " 'name': 'mnist_784',\n",
       " 'version': '1',\n",
       " 'description_version': '1',\n",
       " 'format': 'ARFF',\n",
       " 'creator': ['Yann LeCun', 'Corinna Cortes', 'Christopher J.C. Burges'],\n",
       " 'upload_date': '2014-09-29T03:28:38',\n",
       " 'language': 'English',\n",
       " 'licence': 'Public',\n",
       " 'url': 'https://api.openml.org/data/v1/download/52667/mnist_784.arff',\n",
       " 'parquet_url': 'http://openml1.win.tue.nl/dataset554/dataset_554.pq',\n",
       " 'file_id': '52667',\n",
       " 'default_target_attribute': 'class',\n",
       " 'tag': ['AzurePilot',\n",
       "  'OpenML-CC18',\n",
       "  'OpenML100',\n",
       "  'study_1',\n",
       "  'study_123',\n",
       "  'study_41',\n",
       "  'study_99',\n",
       "  'vision'],\n",
       " 'visibility': 'public',\n",
       " 'minio_url': 'http://openml1.win.tue.nl/dataset554/dataset_554.pq',\n",
       " 'status': 'active',\n",
       " 'processing_date': '2020-11-20 20:12:09',\n",
       " 'md5_checksum': '0298d579eb1b86163de7723944c7e495'}"
      ]
     },
     "execution_count": 7,
     "metadata": {},
     "output_type": "execute_result"
    }
   ],
   "source": [
    "mnist.details # structure details"
   ]
  },
  {
   "cell_type": "code",
   "execution_count": 8,
   "id": "9ea8f609",
   "metadata": {},
   "outputs": [
    {
     "name": "stdout",
     "output_type": "stream",
     "text": [
      "(70000, 784) (70000,)\n"
     ]
    }
   ],
   "source": [
    "X,y = mnist.data, mnist.target\n",
    "print(X.shape, y.shape)"
   ]
  },
  {
   "cell_type": "code",
   "execution_count": 9,
   "id": "8e37885f",
   "metadata": {
    "scrolled": true
   },
   "outputs": [],
   "source": [
    "examp_digit = X.iloc[0]\n",
    "examp_digit_reshape = examp_digit.values.reshape(28,28) # cast dataframe to numpy, then call reshape"
   ]
  },
  {
   "cell_type": "code",
   "execution_count": 10,
   "id": "90da8f5d",
   "metadata": {},
   "outputs": [
    {
     "data": {
      "image/png": "[encoded data removed]",
      "text/plain": [
       "<Figure size 640x480 with 1 Axes>"
      ]
     },
     "metadata": {},
     "output_type": "display_data"
    }
   ],
   "source": [
    "plt.imshow(examp_digit_reshape, cmap='binary')\n",
    "plt.axis('off')\n",
    "plt.show()"
   ]
  },
  {
   "cell_type": "markdown",
   "id": "ef7474a4",
   "metadata": {},
   "source": [
    "#### Survey Says\n",
    "This looks like a 5, and when checking the target, that is the value which matches this handwritting sample.  Note that the label is stored as a string.  Recasting to a number will improve the ingestion for the ML algorithm."
   ]
  },
  {
   "cell_type": "code",
   "execution_count": 11,
   "id": "271dda1f",
   "metadata": {},
   "outputs": [
    {
     "data": {
      "text/plain": [
       "'5'"
      ]
     },
     "execution_count": 11,
     "metadata": {},
     "output_type": "execute_result"
    }
   ],
   "source": [
    "y.iloc[0]"
   ]
  },
  {
   "cell_type": "code",
   "execution_count": 12,
   "id": "87ef9ca3",
   "metadata": {},
   "outputs": [],
   "source": [
    "y = y.astype(np.uint8)"
   ]
  },
  {
   "cell_type": "markdown",
   "id": "3dbb035a",
   "metadata": {},
   "source": [
    "### Create the train test split\n",
    "This data set was already produced with a distributed train test split for people to leverage if consistantly to test algorthims and workflows.  The first 60_000 items are the training data and the last 10_000 are the test data.  Simply break up the data into the respective groups for the train and test needs for features and targets.  The embedded split has already accounted for distribution and appropriate shuffling so the same digit does not occur many times in a row (something some algorithms are sensative too)."
   ]
  },
  {
   "cell_type": "code",
   "execution_count": 13,
   "id": "6a0357e1",
   "metadata": {},
   "outputs": [],
   "source": [
    "X_train, X_test, y_train, y_test = X[:60000], X[60000:], y[:60000], y[60000:]"
   ]
  },
  {
   "cell_type": "markdown",
   "id": "eac0656a",
   "metadata": {},
   "source": [
    "### Create a Binary Classifier\n",
    "This is a model which only detects one value.  In the case of this effort, that value will be 5.  So it will respond with 5 and not 5 in terms of classification.  This is a single piece of a larger classifier, but it will demonstrate the process for this type of machine learning problem."
   ]
  },
  {
   "cell_type": "code",
   "execution_count": 14,
   "id": "789483b3",
   "metadata": {},
   "outputs": [],
   "source": [
    "y_train_5 = (y_train == 5) # true for all 5s, false in all other cases\n",
    "y_test_5 = (y_test == 5)"
   ]
  },
  {
   "cell_type": "markdown",
   "id": "a6fe4d6a",
   "metadata": {},
   "source": [
    "### Stochastic Gradient Descent\n",
    "This is an algorithm that is very scalable, handles large data well and can be used for online learning.  It deals with training instances one at a time to manage this aspect of the design.  This will be called from the SciKit Learn library."
   ]
  },
  {
   "cell_type": "code",
   "execution_count": 15,
   "id": "83800b92",
   "metadata": {},
   "outputs": [],
   "source": [
    "from sklearn.linear_model import SGDClassifier"
   ]
  },
  {
   "cell_type": "code",
   "execution_count": 16,
   "id": "99bd4cc1",
   "metadata": {},
   "outputs": [
    {
     "data": {
      "text/html": [
       "<style>#sk-container-id-1 {color: black;background-color: white;}#sk-container-id-1 pre{padding: 0;}#sk-container-id-1 div.sk-toggleable {background-color: white;}#sk-container-id-1 label.sk-toggleable__label {cursor: pointer;display: block;width: 100%;margin-bottom: 0;padding: 0.3em;box-sizing: border-box;text-align: center;}#sk-container-id-1 label.sk-toggleable__label-arrow:before {content: \"▸\";float: left;margin-right: 0.25em;color: #696969;}#sk-container-id-1 label.sk-toggleable__label-arrow:hover:before {color: black;}#sk-container-id-1 div.sk-estimator:hover label.sk-toggleable__label-arrow:before {color: black;}#sk-container-id-1 div.sk-toggleable__content {max-height: 0;max-width: 0;overflow: hidden;text-align: left;background-color: #f0f8ff;}#sk-container-id-1 div.sk-toggleable__content pre {margin: 0.2em;color: black;border-radius: 0.25em;background-color: #f0f8ff;}#sk-container-id-1 input.sk-toggleable__control:checked~div.sk-toggleable__content {max-height: 200px;max-width: 100%;overflow: auto;}#sk-container-id-1 input.sk-toggleable__control:checked~label.sk-toggleable__label-arrow:before {content: \"▾\";}#sk-container-id-1 div.sk-estimator input.sk-toggleable__control:checked~label.sk-toggleable__label {background-color: #d4ebff;}#sk-container-id-1 div.sk-label input.sk-toggleable__control:checked~label.sk-toggleable__label {background-color: #d4ebff;}#sk-container-id-1 input.sk-hidden--visually {border: 0;clip: rect(1px 1px 1px 1px);clip: rect(1px, 1px, 1px, 1px);height: 1px;margin: -1px;overflow: hidden;padding: 0;position: absolute;width: 1px;}#sk-container-id-1 div.sk-estimator {font-family: monospace;background-color: #f0f8ff;border: 1px dotted black;border-radius: 0.25em;box-sizing: border-box;margin-bottom: 0.5em;}#sk-container-id-1 div.sk-estimator:hover {background-color: #d4ebff;}#sk-container-id-1 div.sk-parallel-item::after {content: \"\";width: 100%;border-bottom: 1px solid gray;flex-grow: 1;}#sk-container-id-1 div.sk-label:hover label.sk-toggleable__label {background-color: #d4ebff;}#sk-container-id-1 div.sk-serial::before {content: \"\";position: absolute;border-left: 1px solid gray;box-sizing: border-box;top: 0;bottom: 0;left: 50%;z-index: 0;}#sk-container-id-1 div.sk-serial {display: flex;flex-direction: column;align-items: center;background-color: white;padding-right: 0.2em;padding-left: 0.2em;position: relative;}#sk-container-id-1 div.sk-item {position: relative;z-index: 1;}#sk-container-id-1 div.sk-parallel {display: flex;align-items: stretch;justify-content: center;background-color: white;position: relative;}#sk-container-id-1 div.sk-item::before, #sk-container-id-1 div.sk-parallel-item::before {content: \"\";position: absolute;border-left: 1px solid gray;box-sizing: border-box;top: 0;bottom: 0;left: 50%;z-index: -1;}#sk-container-id-1 div.sk-parallel-item {display: flex;flex-direction: column;z-index: 1;position: relative;background-color: white;}#sk-container-id-1 div.sk-parallel-item:first-child::after {align-self: flex-end;width: 50%;}#sk-container-id-1 div.sk-parallel-item:last-child::after {align-self: flex-start;width: 50%;}#sk-container-id-1 div.sk-parallel-item:only-child::after {width: 0;}#sk-container-id-1 div.sk-dashed-wrapped {border: 1px dashed gray;margin: 0 0.4em 0.5em 0.4em;box-sizing: border-box;padding-bottom: 0.4em;background-color: white;}#sk-container-id-1 div.sk-label label {font-family: monospace;font-weight: bold;display: inline-block;line-height: 1.2em;}#sk-container-id-1 div.sk-label-container {text-align: center;}#sk-container-id-1 div.sk-container {/* jupyter's `normalize.less` sets `[hidden] { display: none; }` but bootstrap.min.css set `[hidden] { display: none !important; }` so we also need the `!important` here to be able to override the default hidden behavior on the sphinx rendered scikit-learn.org. See: https://github.com/scikit-learn/scikit-learn/issues/21755 */display: inline-block !important;position: relative;}#sk-container-id-1 div.sk-text-repr-fallback {display: none;}</style><div id=\"sk-container-id-1\" class=\"sk-top-container\"><div class=\"sk-text-repr-fallback\"><pre>SGDClassifier(random_state=42)</pre><b>In a Jupyter environment, please rerun this cell to show the HTML representation or trust the notebook. <br />On GitHub, the HTML representation is unable to render, please try loading this page with nbviewer.org.</b></div><div class=\"sk-container\" hidden><div class=\"sk-item\"><div class=\"sk-estimator sk-toggleable\"><input class=\"sk-toggleable__control sk-hidden--visually\" id=\"sk-estimator-id-1\" type=\"checkbox\" checked><label for=\"sk-estimator-id-1\" class=\"sk-toggleable__label sk-toggleable__label-arrow\">SGDClassifier</label><div class=\"sk-toggleable__content\"><pre>SGDClassifier(random_state=42)</pre></div></div></div></div></div>"
      ],
      "text/plain": [
       "SGDClassifier(random_state=42)"
      ]
     },
     "execution_count": 16,
     "metadata": {},
     "output_type": "execute_result"
    }
   ],
   "source": [
    "sgd_clf = SGDClassifier(random_state=42)\n",
    "sgd_clf.fit(X_train, y_train_5)"
   ]
  },
  {
   "cell_type": "code",
   "execution_count": 17,
   "id": "f66a65b2",
   "metadata": {},
   "outputs": [
    {
     "name": "stderr",
     "output_type": "stream",
     "text": [
      "c:\\users\\knhoffm\\.virtualenvs\\hands_on_ml\\lib\\site-packages\\sklearn\\base.py:439: UserWarning: X does not have valid feature names, but SGDClassifier was fitted with feature names\n",
      "  warnings.warn(\n"
     ]
    },
    {
     "data": {
      "text/plain": [
       "array([ True])"
      ]
     },
     "execution_count": 17,
     "metadata": {},
     "output_type": "execute_result"
    }
   ],
   "source": [
    "sgd_clf.predict([examp_digit])"
   ]
  },
  {
   "cell_type": "markdown",
   "id": "bb9dfc4c",
   "metadata": {},
   "source": [
    "### Performance Measures\n",
    "Evaluating a classifier is significantly more difficult than evaluating a regressor.  This will require additional terms and acronyms to be understood to consistently understand the state of the model.  \n",
    "\n",
    "#### Measuring Accuracy Using Cross-Validation\n",
    "Cross Validation is a good way to understand the performance of a classifier model.  In most instances, this can be accomadated using the sklearn cross_val_score method, but there are cases when a custom built cross_val_score might be required.  This is often a question of the level of control desired on the cross validation process and scoring."
   ]
  },
  {
   "cell_type": "code",
   "execution_count": 18,
   "id": "2dc036b4",
   "metadata": {},
   "outputs": [],
   "source": [
    "# custom cross val\n",
    "from sklearn.model_selection import StratifiedKFold\n",
    "from sklearn.base import clone"
   ]
  },
  {
   "cell_type": "code",
   "execution_count": 19,
   "id": "9cb849be",
   "metadata": {},
   "outputs": [],
   "source": [
    "# # custom cross val\n",
    "# skfolds = StratifiedKFold(n_splits=3, shuffle=True, random_state=42)\n",
    "\n",
    "# for train_index, test_index in skfolds.split(X_train, y_train_5):\n",
    "#     clone_clf = clone(sgd_clf)\n",
    "#     X_train_folds = X_train.iloc[train_index]\n",
    "#     y_train_folds = y_train_5.iloc[train_index]\n",
    "#     X_test_fold = X_train.iloc[test_index]\n",
    "#     y_test_fold = y_train_5.iloc[test_index]\n",
    "    \n",
    "#     clone_clf.fit(X_train_folds, y_train_folds)\n",
    "#     y_pred = clone_clf.predict(X_test_fold)\n",
    "#     n_correct = sum(y_pred == y_test_fold)\n",
    "#     print(n_correct/len(y_pred))"
   ]
  },
  {
   "cell_type": "markdown",
   "id": "771dcf02",
   "metadata": {},
   "source": [
    "---\n",
    ">**NOTE**: It is much easier if the cross_val_score can be used directly to evaluate a model"
   ]
  },
  {
   "cell_type": "code",
   "execution_count": 20,
   "id": "2e8b282a",
   "metadata": {},
   "outputs": [],
   "source": [
    "from sklearn.model_selection import cross_val_score"
   ]
  },
  {
   "cell_type": "code",
   "execution_count": 21,
   "id": "99445d51",
   "metadata": {},
   "outputs": [
    {
     "data": {
      "text/plain": [
       "array([0.95035, 0.96035, 0.9604 ])"
      ]
     },
     "execution_count": 21,
     "metadata": {},
     "output_type": "execute_result"
    }
   ],
   "source": [
    "# evaluate the sgd_clf using existing cross_val_score method\n",
    "cross_val_score(sgd_clf, X_train, y_train_5, cv=3, scoring=\"accuracy\", n_jobs=-1)"
   ]
  },
  {
   "cell_type": "markdown",
   "id": "6af2cf67",
   "metadata": {},
   "source": [
    ">**NOTE**: Accuracy looks pretty good, but is it really?\n",
    "---\n",
    "So this model is achieving over a 90% hit rate.  That is impressive for the first pass.  To validate that this is actually something significant for this task a simple not a five model will be created to test the cross val for such a system. "
   ]
  },
  {
   "cell_type": "code",
   "execution_count": 22,
   "id": "52ed5c29",
   "metadata": {},
   "outputs": [],
   "source": [
    "from sklearn.base import BaseEstimator\n",
    "\n",
    "class Never5Classifier(BaseEstimator):\n",
    "    def fit(self, X, y=None):\n",
    "        return self\n",
    "    def predict(self, X):\n",
    "        return np.zeros((len(X), 1), dtype=bool)"
   ]
  },
  {
   "cell_type": "code",
   "execution_count": 23,
   "id": "1cc3ba88",
   "metadata": {},
   "outputs": [
    {
     "data": {
      "text/plain": [
       "array([0.91125, 0.90855, 0.90915])"
      ]
     },
     "execution_count": 23,
     "metadata": {},
     "output_type": "execute_result"
    }
   ],
   "source": [
    "never_5_clf = Never5Classifier()\n",
    "cross_val_score(never_5_clf, X_train, y_train_5, cv=3, scoring=\"accuracy\", n_jobs=-1)"
   ]
  },
  {
   "cell_type": "markdown",
   "id": "366307d8",
   "metadata": {},
   "source": [
    "This demonstrates why accuracy alone may not be enough to understand a models performance.  This is especially true for classifiers where the prediction is not a range of numbers but finite outcomes, often true false booleans or limited ranges of values such as predicting numbers.  \n",
    "\n",
    "### Confusion Matrix\n",
    "The confusion matrix is named as such because no matter how often it is reviewed, getting crossed up about the designation for rows and columns is easy to do when some time has passed between uses.  This matrix is designed as a way to compare the true value for a target to its predicted value.  \n",
    "- The Rows of a confusion matrix are the true values of the data broken into two records, True and False.  This is most helpful in a binary construction.  \n",
    "    - The first row is all non true values, or not the intended target.  \n",
    "    - The second row is all true values, or the intended target.  So, if predicting images of the number 5, all instances of those targets would fall in the second row.\n",
    "- The columns are the predicted value, True or False.  \n",
    "    - The first column is negative predictions.  The model said it was not the intended target\n",
    "    - The second column is positive prediction.  The model thought it was the intended target\n",
    "- The upper left cell are considered the true negative predictions.  Not the target and predicted as such.\n",
    "- The upper right cell are false positives.  Not the target, but incorrectly predicted as the target\n",
    "- The low left are false negatives.  The target, but predicted as not the target\n",
    "- Finally, the lower right are true positives.  The targeted predicted value was predicted as such.  A spade is a spade.\n",
    "\n",
    "To compute the confusion matrix requires a set of predictions which can be compared to targets.  This must be done on the training set during model evaluation.  Sklearn comes to the rescue with the cross_val_predict function:"
   ]
  },
  {
   "cell_type": "code",
   "execution_count": 24,
   "id": "7979543c",
   "metadata": {},
   "outputs": [],
   "source": [
    "from sklearn.model_selection import cross_val_predict"
   ]
  },
  {
   "cell_type": "code",
   "execution_count": 25,
   "id": "68fe9c0d",
   "metadata": {},
   "outputs": [],
   "source": [
    "# creating predictions for confusion matrix\n",
    "y_train_pred = cross_val_predict(sgd_clf, X_train, y_train_5, cv=3, n_jobs=-1)"
   ]
  },
  {
   "cell_type": "code",
   "execution_count": 26,
   "id": "d9ceecb1",
   "metadata": {},
   "outputs": [],
   "source": [
    "# now the confusion matrix can be obtained\n",
    "from sklearn.metrics import confusion_matrix"
   ]
  },
  {
   "cell_type": "code",
   "execution_count": 27,
   "id": "3eaae54f",
   "metadata": {},
   "outputs": [
    {
     "data": {
      "text/plain": [
       "array([[53892,   687],\n",
       "       [ 1891,  3530]], dtype=int64)"
      ]
     },
     "execution_count": 27,
     "metadata": {},
     "output_type": "execute_result"
    }
   ],
   "source": [
    "confusion_matrix(y_train_5, y_train_pred)"
   ]
  },
  {
   "cell_type": "code",
   "execution_count": 28,
   "id": "784a0f35",
   "metadata": {},
   "outputs": [
    {
     "data": {
      "image/png": "[encoded data removed]",
      "text/plain": [
       "<Figure size 640x480 with 1 Axes>"
      ]
     },
     "metadata": {},
     "output_type": "display_data"
    }
   ],
   "source": [
    "fig,ax = plt.subplots()\n",
    "matrix = confusion_matrix(y_train_5, y_train_pred)\n",
    "ax.imshow(matrix, cmap='Blues')\n",
    "\n",
    "ax.set_yticks(np.arange(len(['Not Five(5)','Five (5)'])), labels=['Not Five(5)','Five (5)'])\n",
    "ax.set_xticks(np.arange(len(['Predict Not Five', 'Predicted Five'])), labels=['Predict Not Five', 'Predicted Five'])\n",
    "\n",
    "for i in range(2):\n",
    "    for j in range(2):\n",
    "        text = ax.text(j, i, matrix[i, j],\n",
    "                       ha=\"center\", va=\"center\", color=\"r\")\n",
    "\n",
    "fig.tight_layout()\n",
    "plt.show()"
   ]
  },
  {
   "cell_type": "markdown",
   "id": "ad8654a0",
   "metadata": {},
   "source": [
    "### Precision and Recall\n",
    "Burried within the Matrix are the concepts of precision and recall (also called sensitivity).  These two components of a prediction model are critical to the intended performance.  \n",
    "- If the model must be correct when making a prediction, precision is paramount. \n",
    "- If the model must catch all potential outcomes, then a higher recall or sensitivity is needed.\n",
    "\n",
    "The math for precision and recall leverage the bottom row (recall) or the right hand column(precision).\n",
    "\n",
    "$ precision = \\frac{TP}{TP + FP}$ This would be 3530/(3530+687) = 83.7%\n",
    "\n",
    "$ recall = \\frac{TP}{TP + FN}$ This would be 3530/(3530+1891) = 65.1% to sensisitive?\n",
    "\n",
    "Sklearn also has built in functions for these calculations."
   ]
  },
  {
   "cell_type": "code",
   "execution_count": 29,
   "id": "689117ba",
   "metadata": {},
   "outputs": [],
   "source": [
    "from sklearn.metrics import precision_score, recall_score"
   ]
  },
  {
   "cell_type": "code",
   "execution_count": 30,
   "id": "b98eb494",
   "metadata": {},
   "outputs": [
    {
     "data": {
      "text/plain": [
       "0.8370879772350012"
      ]
     },
     "execution_count": 30,
     "metadata": {},
     "output_type": "execute_result"
    }
   ],
   "source": [
    "precision_score(y_train_5,y_train_pred)"
   ]
  },
  {
   "cell_type": "code",
   "execution_count": 31,
   "id": "b794d7f0",
   "metadata": {},
   "outputs": [
    {
     "data": {
      "text/plain": [
       "0.6511713705958311"
      ]
     },
     "execution_count": 31,
     "metadata": {},
     "output_type": "execute_result"
    }
   ],
   "source": [
    "recall_score(y_train_5, y_train_pred)"
   ]
  },
  {
   "cell_type": "markdown",
   "id": "c1b072db",
   "metadata": {},
   "source": [
    "#### F1 Score\n",
    "To better understand precision and recall, it is often helpful to combine them into a single metric called the $F_1$ score.  This is specifically helpful if you need a way to compare two classifiers.  The $F_1$ score is the harmonic mean of precision and recall.  The harmonic mean gives more weight to lower values.  As a result, the $F_1$ score will only get a high score (close to 1?) if both precision and recall are high.  Equation for $F_1$\n",
    "\n",
    "$F_1 = 2 x \\frac{precision x recall}{precision + recall} = \\frac{Total Positive}{Total Positive + \\frac{FalseNegative + False Positive}{2}}$"
   ]
  },
  {
   "cell_type": "code",
   "execution_count": 32,
   "id": "b64166e1",
   "metadata": {},
   "outputs": [],
   "source": [
    "from sklearn.metrics import f1_score"
   ]
  },
  {
   "cell_type": "code",
   "execution_count": 33,
   "id": "02df950f",
   "metadata": {},
   "outputs": [
    {
     "data": {
      "text/plain": [
       "0.7325171197343846"
      ]
     },
     "execution_count": 33,
     "metadata": {},
     "output_type": "execute_result"
    }
   ],
   "source": [
    "f1_score(y_train_5, y_train_pred)"
   ]
  },
  {
   "cell_type": "markdown",
   "id": "467ed40a",
   "metadata": {},
   "source": [
    "### Decision Functions for precision/recall\n",
    "Decision function to determine if a classification is a positive (yes this is a match) or negative (no this is not a match) have a trade off.  They leverage a threshold to determine what bucket to place predictions in for the data set.  The decision threshold is not directly accesssible in most cases, but you can evaluate its behavior through calling the decision_function() method, which returns a score for each instance.  This can be compared to any threshold to determine behavior.  The default for the SGDClassifier is 0 (above being positive and below, no surprise, is negative)."
   ]
  },
  {
   "cell_type": "code",
   "execution_count": 34,
   "id": "5473d40d",
   "metadata": {},
   "outputs": [
    {
     "data": {
      "text/plain": [
       "0      618\n",
       "253     54\n",
       "18       5\n",
       "11       3\n",
       "154      3\n",
       "2        3\n",
       "64       2\n",
       "1        2\n",
       "195      2\n",
       "82       2\n",
       "Name: count, dtype: int64"
      ]
     },
     "execution_count": 34,
     "metadata": {},
     "output_type": "execute_result"
    }
   ],
   "source": [
    "pd.DataFrame(examp_digit).value_counts()[:10] # pixel hue values for handwritten 5? "
   ]
  },
  {
   "cell_type": "code",
   "execution_count": 35,
   "id": "e416bb18",
   "metadata": {},
   "outputs": [
    {
     "name": "stderr",
     "output_type": "stream",
     "text": [
      "c:\\users\\knhoffm\\.virtualenvs\\hands_on_ml\\lib\\site-packages\\sklearn\\base.py:439: UserWarning: X does not have valid feature names, but SGDClassifier was fitted with feature names\n",
      "  warnings.warn(\n"
     ]
    },
    {
     "data": {
      "text/plain": [
       "array([2164.22030239])"
      ]
     },
     "execution_count": 35,
     "metadata": {},
     "output_type": "execute_result"
    }
   ],
   "source": [
    "y_scores = sgd_clf.decision_function([examp_digit]) # returns confidence scores using examp_digit\n",
    "\n",
    "y_scores "
   ]
  },
  {
   "cell_type": "code",
   "execution_count": 36,
   "id": "599cc78e",
   "metadata": {},
   "outputs": [],
   "source": [
    "threshold = 0 # default threshold, so will match prediction"
   ]
  },
  {
   "cell_type": "code",
   "execution_count": 37,
   "id": "a15da120",
   "metadata": {},
   "outputs": [
    {
     "data": {
      "text/plain": [
       "array([ True])"
      ]
     },
     "execution_count": 37,
     "metadata": {},
     "output_type": "execute_result"
    }
   ],
   "source": [
    "y_some_digit_pred = (y_scores > threshold)\n",
    "y_some_digit_pred"
   ]
  },
  {
   "cell_type": "code",
   "execution_count": 38,
   "id": "761c8d13",
   "metadata": {},
   "outputs": [
    {
     "data": {
      "text/plain": [
       "array([False])"
      ]
     },
     "execution_count": 38,
     "metadata": {},
     "output_type": "execute_result"
    }
   ],
   "source": [
    "threshold = 8000 # updated threshold to test decision, shows five is miss classified with a higher threshold\n",
    "(y_scores > threshold)"
   ]
  },
  {
   "cell_type": "markdown",
   "id": "1a152ae4",
   "metadata": {},
   "source": [
    "### Determining a threshold\n",
    "This is the test required to determine the best decision_function threshold.  In place of returning cross_validation predictions, the same function can be called to return decision scores.  These scores can be used in a decision recall curve to show how the decision threshold impacts decision and recall. "
   ]
  },
  {
   "cell_type": "code",
   "execution_count": 39,
   "id": "81d6ad5e",
   "metadata": {},
   "outputs": [],
   "source": [
    "y_scores = cross_val_predict(sgd_clf, X_train, y_train_5, cv=3, method=\"decision_function\", n_jobs=-1)"
   ]
  },
  {
   "cell_type": "code",
   "execution_count": 40,
   "id": "c51ca561",
   "metadata": {},
   "outputs": [],
   "source": [
    "from sklearn.metrics import precision_recall_curve"
   ]
  },
  {
   "cell_type": "code",
   "execution_count": 41,
   "id": "5fcbbde9",
   "metadata": {},
   "outputs": [],
   "source": [
    "precisions, recalls, thresholds = precision_recall_curve(y_train_5, y_scores)"
   ]
  },
  {
   "cell_type": "code",
   "execution_count": 42,
   "id": "7ebd7b84",
   "metadata": {},
   "outputs": [],
   "source": [
    "def plot_precision_recall_vs_threshold(precisions, recalls, thresholds, target=0.9):\n",
    "    recall_target_precision = recalls[np.argmax(precisions >= target)]\n",
    "    threshold_target_precision = thresholds[np.argmax(precisions >= target)]\n",
    "    plt.figure(figsize=(8, 4))\n",
    "    plt.title(f\"Precision vs Recall at {target*100:.0f}% Threshold\")\n",
    "    plt.grid(True)                              # Not shown\n",
    "    plt.axis([-50000, 50000, 0, 1])             # Not shown\n",
    "    plt.plot(thresholds,precisions[:-1], \"b--\", label='Precision')\n",
    "    plt.plot(thresholds,recalls[:-1], \"g-\", label='Recall')\n",
    "    plt.plot([threshold_target_precision, threshold_target_precision], [0., target], \"r:\")\n",
    "    plt.plot([-50000, threshold_target_precision], [target, target], \"r:\")\n",
    "    plt.plot([-50000, threshold_target_precision], [recall_target_precision, recall_target_precision], \"r:\")\n",
    "    plt.plot([threshold_target_precision], [target], \"ro\")\n",
    "    plt.plot([threshold_target_precision], [recall_target_precision], \"ro\")\n",
    "    plt.legend()"
   ]
  },
  {
   "cell_type": "code",
   "execution_count": 43,
   "id": "9b1ed765",
   "metadata": {},
   "outputs": [
    {
     "data": {
      "image/png": "[encoded data removed]",
      "text/plain": [
       "<Figure size 800x400 with 1 Axes>"
      ]
     },
     "metadata": {},
     "output_type": "display_data"
    }
   ],
   "source": [
    "target = 0.9\n",
    "plot_precision_recall_vs_threshold(precisions, recalls, thresholds, target=target)"
   ]
  },
  {
   "cell_type": "code",
   "execution_count": 44,
   "id": "552a1217",
   "metadata": {},
   "outputs": [
    {
     "data": {
      "text/plain": [
       "Text(0.5, 1.0, 'Precision vs Recall plotting 90% Threshold')"
      ]
     },
     "execution_count": 44,
     "metadata": {},
     "output_type": "execute_result"
    },
    {
     "data": {
      "image/png": "[encoded data removed]",
      "text/plain": [
       "<Figure size 800x400 with 1 Axes>"
      ]
     },
     "metadata": {},
     "output_type": "display_data"
    }
   ],
   "source": [
    "target = 0.9\n",
    "recall_target_precision = recalls[np.argmax(precisions >= target)]\n",
    "threshold_target_precision = thresholds[np.argmax(precisions >= target)]\n",
    "plt.figure(figsize=(8, 4))\n",
    "plt.plot(recalls, precisions)\n",
    "plt.plot([recall_target_precision, recall_target_precision], [0., target], \"r:\")\n",
    "plt.plot([0.0, recall_target_precision], [target, target], \"r:\")\n",
    "plt.plot([recall_target_precision], [target], \"ro\")\n",
    "plt.xlabel(\"Recall\", fontsize=16)\n",
    "plt.ylabel(\"Precision\", fontsize=16)\n",
    "plt.axis([0, 1, 0, 1])\n",
    "plt.grid(True)\n",
    "plt.title(f\"Precision vs Recall plotting {target*100:.0f}% Threshold\")\n"
   ]
  },
  {
   "cell_type": "markdown",
   "id": "d9534898",
   "metadata": {},
   "source": [
    "#### Finding the cut off\n",
    "Based on the above two plots, the determination is made to target a 90% precision since recall is less critical in this instance.  Less false positives in the number identification process is the goal.  Based on this decision, the threshold needs to be determined for the targeted precision.  Using the np.argmax function is the best way to identify this point in the array of values returned from the cross_val_score method.  "
   ]
  },
  {
   "cell_type": "code",
   "execution_count": 45,
   "id": "ef2e23aa",
   "metadata": {},
   "outputs": [
    {
     "data": {
      "text/plain": [
       "3370.0194991439557"
      ]
     },
     "execution_count": 45,
     "metadata": {},
     "output_type": "execute_result"
    }
   ],
   "source": [
    "threshold_90_precision = thresholds[np.argmax(precisions >= 0.90)]\n",
    "threshold_90_precision # doesn't match book, but does match github data"
   ]
  },
  {
   "cell_type": "markdown",
   "id": "2e7ddc46",
   "metadata": {},
   "source": [
    "---\n",
    "To make predictions, the threshold can be leveraged in a comparison versus the previously determined *y_scores* when the cross_val_scores method returned decision_function values (thresholds).  "
   ]
  },
  {
   "cell_type": "code",
   "execution_count": 46,
   "id": "dabddf5c",
   "metadata": {},
   "outputs": [],
   "source": [
    "y_train_pred_90 = (y_scores >= threshold_90_precision)"
   ]
  },
  {
   "cell_type": "code",
   "execution_count": 47,
   "id": "97180043",
   "metadata": {},
   "outputs": [
    {
     "name": "stdout",
     "output_type": "stream",
     "text": [
      "Precision:  0.9000345901072293\n",
      "Recall:  0.4799852425751706\n"
     ]
    }
   ],
   "source": [
    "print(\"Precision: \",precision_score(y_train_5, y_train_pred_90))\n",
    "print(\"Recall: \",recall_score(y_train_5, y_train_pred_90))"
   ]
  },
  {
   "cell_type": "markdown",
   "id": "2dee1c0d",
   "metadata": {},
   "source": [
    ">**NOTE**: If a model achieves 99% precision, the first question is what is the recall at this basis.  It is a trade off, and one that should be made with intent (flight security, fraud or junk email require different outcomes)."
   ]
  },
  {
   "cell_type": "markdown",
   "id": "a0b4b6c9",
   "metadata": {},
   "source": [
    "### The ROC curve\n",
    "The receiver operating characteristic (ROC) curve is another common tool used with binary classifiers. It is very similar to the precision/recall curve, but plots true positive (recall) versus false positive rate (FPR).  This provides a different view of the same model performance.  The False positive rate (FPR) is equivalent to $1-TNR$ (True Negative Rate).  True negative rate is considered *specificity* of the model.  Hence the ROC curve plots sensitivity vs (1-specificity).  \n",
    "\n",
    "To plot the ROC curve you must import the roc_curve() function from sklearn, which computes the FPR and TPR for the model in question."
   ]
  },
  {
   "cell_type": "code",
   "execution_count": 48,
   "id": "9dea1920",
   "metadata": {},
   "outputs": [],
   "source": [
    "from sklearn.metrics import roc_curve"
   ]
  },
  {
   "cell_type": "code",
   "execution_count": 49,
   "id": "7f8c1650",
   "metadata": {},
   "outputs": [],
   "source": [
    "fpr, tpr, thresholds = roc_curve(y_train_5, y_scores)"
   ]
  },
  {
   "cell_type": "code",
   "execution_count": 50,
   "id": "d034af47",
   "metadata": {},
   "outputs": [
    {
     "data": {
      "text/plain": [
       "[<matplotlib.lines.Line2D at 0x2a732d4fa90>]"
      ]
     },
     "execution_count": 50,
     "metadata": {},
     "output_type": "execute_result"
    },
    {
     "data": {
      "image/png": "[encoded data removed]",
      "text/plain": [
       "<Figure size 800x600 with 1 Axes>"
      ]
     },
     "metadata": {},
     "output_type": "display_data"
    }
   ],
   "source": [
    "def plot_roc_curve(fpr, tpr, label=None):\n",
    "    plt.plot(fpr, tpr, linewidth=2, label=label)\n",
    "    plt.plot([0, 1], [0, 1], 'k--')\n",
    "    plt.axis([0, 1, 0, 1])\n",
    "    plt.xlabel('False Positive Rate (Fall-Out)', fontsize=16)\n",
    "    plt.ylabel('True Positive Rate (Recall)', fontsize=16)\n",
    "    plt.grid(True)\n",
    "\n",
    "plt.figure(figsize=(8, 6))\n",
    "plot_roc_curve(fpr, tpr)\n",
    "fpr_90 = fpr[np.argmax(tpr >= recall_target_precision)]\n",
    "plt.plot([fpr_90, fpr_90], [0., recall_target_precision], \"r:\")\n",
    "plt.plot([0.0, fpr_90], [recall_target_precision, recall_target_precision], \"r:\")\n",
    "plt.plot([fpr_90], [recall_target_precision], \"ro\")"
   ]
  },
  {
   "cell_type": "markdown",
   "id": "b82c12b0",
   "metadata": {},
   "source": [
    "#### Trade Offs\n",
    "As with the previous discussion leveraging the precision and recall metrics directly, there are trade offs between the two option of True Positive Rate(recall/sensitivity) and False Positive Rate (Fall-Out).  As your TPR (sensitivity) so does your FPR (incorrectly positively classified records) yielding a positive relationship.  One way to identify the performance of a model ROC curve is the area under the curve (AUC) evaluation which scikit learn includes a function to evaluate.  A perfect AUC have a value of 1.0, while a purely randome classifier has a AUC of 0.5. "
   ]
  },
  {
   "cell_type": "code",
   "execution_count": 51,
   "id": "0bf8e9f7",
   "metadata": {},
   "outputs": [],
   "source": [
    "from sklearn.metrics import roc_auc_score"
   ]
  },
  {
   "cell_type": "code",
   "execution_count": 52,
   "id": "ec9cad2f",
   "metadata": {},
   "outputs": [
    {
     "data": {
      "text/plain": [
       "0.9604938554008616"
      ]
     },
     "execution_count": 52,
     "metadata": {},
     "output_type": "execute_result"
    }
   ],
   "source": [
    "roc_auc_score(y_train_5, y_scores)"
   ]
  },
  {
   "cell_type": "markdown",
   "id": "3aaf726f",
   "metadata": {},
   "source": [
    ">**NOTE**:The ROC AUC score looks good in this case.  That said, the ROC curve should really only be applied when conducting a model that needs to produce a more frequent positive case relative to the data. In the case of the example, five is one of ten available digits meaning the positive case is rare.  In low frequency positive case problems, the precision recall curve provides a better indication of model performance."
   ]
  },
  {
   "cell_type": "markdown",
   "id": "ccf7a231",
   "metadata": {},
   "source": [
    "### Model Comparison using ROC AUC\n",
    "Adding a Random Forest classifier, the roc_curve and auc score can be compared for each of the two models to determine the level of performance. Due to differences in the random_forest classifer api, there are differences in how the decision_function() method is accessed.  Random_Forest instead has a predict_proba() method to access the same data. Scikit learn generally has one or the other or both.  The predict_proba() method returns an array containing on row per instances and a column per class, each containing the probability that the given instance belongs to the given class (e.g. 70% chance that the image represents a 5)."
   ]
  },
  {
   "cell_type": "code",
   "execution_count": 53,
   "id": "0c43b2e4",
   "metadata": {},
   "outputs": [],
   "source": [
    "from sklearn.ensemble import RandomForestClassifier"
   ]
  },
  {
   "cell_type": "code",
   "execution_count": 54,
   "id": "b6c8da99",
   "metadata": {},
   "outputs": [],
   "source": [
    "forest_clf = RandomForestClassifier(random_state=42)\n",
    "y_probas_forest = cross_val_predict(forest_clf, X_train, y_train_5, cv=3, method=\"predict_proba\", n_jobs=-1)"
   ]
  },
  {
   "cell_type": "code",
   "execution_count": 55,
   "id": "48249888",
   "metadata": {},
   "outputs": [
    {
     "data": {
      "text/html": [
       "<div>\n",
       "<style scoped>\n",
       "    .dataframe tbody tr th:only-of-type {\n",
       "        vertical-align: middle;\n",
       "    }\n",
       "\n",
       "    .dataframe tbody tr th {\n",
       "        vertical-align: top;\n",
       "    }\n",
       "\n",
       "    .dataframe thead th {\n",
       "        text-align: right;\n",
       "    }\n",
       "</style>\n",
       "<table border=\"1\" class=\"dataframe\">\n",
       "  <thead>\n",
       "    <tr style=\"text-align: right;\">\n",
       "      <th></th>\n",
       "      <th>0</th>\n",
       "      <th>1</th>\n",
       "    </tr>\n",
       "  </thead>\n",
       "  <tbody>\n",
       "    <tr>\n",
       "      <th>49525</th>\n",
       "      <td>0.87</td>\n",
       "      <td>0.13</td>\n",
       "    </tr>\n",
       "    <tr>\n",
       "      <th>43157</th>\n",
       "      <td>1.00</td>\n",
       "      <td>0.00</td>\n",
       "    </tr>\n",
       "    <tr>\n",
       "      <th>16289</th>\n",
       "      <td>1.00</td>\n",
       "      <td>0.00</td>\n",
       "    </tr>\n",
       "  </tbody>\n",
       "</table>\n",
       "</div>"
      ],
      "text/plain": [
       "          0     1\n",
       "49525  0.87  0.13\n",
       "43157  1.00  0.00\n",
       "16289  1.00  0.00"
      ]
     },
     "execution_count": 55,
     "metadata": {},
     "output_type": "execute_result"
    }
   ],
   "source": [
    "pd.DataFrame(y_probas_forest).sample(3)"
   ]
  },
  {
   "cell_type": "code",
   "execution_count": 56,
   "id": "1fccae95",
   "metadata": {},
   "outputs": [],
   "source": [
    "y_scores_forest = y_probas_forest[:,1] # score probability of the positive class"
   ]
  },
  {
   "cell_type": "code",
   "execution_count": 57,
   "id": "318cc4f9",
   "metadata": {},
   "outputs": [],
   "source": [
    "fpr_forest, tpr_forest, thresholds_forest = roc_curve(y_train_5, y_scores_forest)"
   ]
  },
  {
   "cell_type": "code",
   "execution_count": 58,
   "id": "85794a7f",
   "metadata": {},
   "outputs": [
    {
     "data": {
      "image/png": "[encoded data removed]",
      "text/plain": [
       "<Figure size 640x480 with 1 Axes>"
      ]
     },
     "metadata": {},
     "output_type": "display_data"
    }
   ],
   "source": [
    "recall_for_forest = tpr_forest[np.argmax(fpr_forest >= fpr_90)]\n",
    "\n",
    "plt.plot(fpr, tpr, \"b:\", label=\"SGD\")\n",
    "plot_roc_curve(fpr_forest, tpr_forest, \"Random Forest\")\n",
    "plt.plot([fpr_90, fpr_90], [0., recall_target_precision], \"r:\")\n",
    "plt.plot([0.0, fpr_90], [recall_target_precision, recall_target_precision], \"r:\")\n",
    "plt.plot([fpr_90], [recall_target_precision], \"ro\")\n",
    "plt.plot([fpr_90, fpr_90], [0., recall_for_forest], \"r:\")\n",
    "plt.plot([fpr_90], [recall_for_forest], \"ro\")\n",
    "plt.grid(True)\n",
    "plt.legend(loc=\"lower right\")\n",
    "plt.show()"
   ]
  },
  {
   "cell_type": "code",
   "execution_count": 59,
   "id": "1e363a3c",
   "metadata": {},
   "outputs": [
    {
     "data": {
      "text/plain": [
       "0.9983436731328145"
      ]
     },
     "execution_count": 59,
     "metadata": {},
     "output_type": "execute_result"
    }
   ],
   "source": [
    "roc_auc_score(y_train_5, y_scores_forest)"
   ]
  },
  {
   "cell_type": "markdown",
   "id": "2dbac71a",
   "metadata": {},
   "source": [
    "#### Scoring\n",
    "As is evident in the graphic, the auc is much better with random forest.  In fact, it may be too good, with a precision of 99% and a recall of 86.6%.  It looks a bit overfit.  Concerns it may not adapt well to new datasets. "
   ]
  },
  {
   "cell_type": "markdown",
   "id": "4c5be2ec",
   "metadata": {},
   "source": [
    "## Multiclass Classification\n",
    "Up to this point the classification problem has been *binary*, predicting True or False for each instance of the records being evaluated.  In the cases evaluated so far, this has been a prediction of five or not five for the hand drawn numbers.  Of course, while figuring out the fives is helpful, there are 10 digits which need to be predicted, 0-9.  This is a multiclassification problem, where a prediction for each instances is required across n possible instances.  Not a continuous range, but a discontinuous set of possible instances.  The SDGClassifier is strictly a binary classifier, so it will be more difficult to apply in this instance.  \n",
    "\n",
    "There are a number of ways to approach this multiclassification problem.  The first is to create n binary classifiers to address each specific instance.  So each instance is evaluated against each of the classifiers, and the highest score is taken as the most probable match for the instance.  The second is two train a classifier for every pair of digits, which for 10 instances means 45 classifier models (0vs1, 0vs2, ... 8vs9).\n",
    "- OvR: One versus the Rest, classifiers built to identify only one instance.  Results in less classifiers, but larger training dataset.\n",
    "- OvO: One versus One, classifiers built to compair the set of two instances.  More classifier models needed, but smaller training sets.\n",
    "\n",
    "These approaches are automatically applied through the SciKit Learn api if a binary classifier model is used on a multiclassifier problem. Depending on the classifier employed, OvO or OvR are better suited.  Support Vector Machines are better as OvO since they scale poorly to large training sets.  Most are best in the OvR classification.   \n",
    "\n",
    "Here is an example of just such an automated adjustment when applying a binary classifier to a multiclassifier problem."
   ]
  },
  {
   "cell_type": "code",
   "execution_count": 60,
   "id": "fdb2829f",
   "metadata": {},
   "outputs": [],
   "source": [
    "from sklearn.svm import SVC"
   ]
  },
  {
   "cell_type": "code",
   "execution_count": 61,
   "id": "8556a36a",
   "metadata": {},
   "outputs": [
    {
     "name": "stderr",
     "output_type": "stream",
     "text": [
      "c:\\users\\knhoffm\\.virtualenvs\\hands_on_ml\\lib\\site-packages\\sklearn\\base.py:439: UserWarning: X does not have valid feature names, but SVC was fitted with feature names\n",
      "  warnings.warn(\n"
     ]
    },
    {
     "data": {
      "text/plain": [
       "array([5], dtype=uint8)"
      ]
     },
     "execution_count": 61,
     "metadata": {},
     "output_type": "execute_result"
    }
   ],
   "source": [
    "svm_clf = SVC()\n",
    "svm_clf.fit(X_train, y_train) # using all values vs y_train_5 for multiclass\n",
    "svm_clf.predict([examp_digit])"
   ]
  },
  {
   "cell_type": "markdown",
   "id": "b74c7be3",
   "metadata": {},
   "source": [
    ">**NOTE**: The SVM algorithm automatically created OvO solution developing 45 classifiers to determine the class that one the most duels.  This can be seen through the decision_function() method."
   ]
  },
  {
   "cell_type": "code",
   "execution_count": 62,
   "id": "3f7085e2",
   "metadata": {},
   "outputs": [
    {
     "name": "stderr",
     "output_type": "stream",
     "text": [
      "c:\\users\\knhoffm\\.virtualenvs\\hands_on_ml\\lib\\site-packages\\sklearn\\base.py:439: UserWarning: X does not have valid feature names, but SVC was fitted with feature names\n",
      "  warnings.warn(\n"
     ]
    },
    {
     "data": {
      "text/plain": [
       "array([[ 1.72501977,  2.72809088,  7.2510018 ,  8.3076379 , -0.31087254,\n",
       "         9.3132482 ,  1.70975103,  2.76765202,  6.23049537,  4.84771048]])"
      ]
     },
     "execution_count": 62,
     "metadata": {},
     "output_type": "execute_result"
    }
   ],
   "source": [
    "some_digit_scores = svm_clf.decision_function([examp_digit])\n",
    "some_digit_scores"
   ]
  },
  {
   "cell_type": "markdown",
   "id": "960114f7",
   "metadata": {},
   "source": [
    "---\n",
    "Notice the the 6 position starting from zero (0,1,2,3,4,5) has the highest score at 9.3.  So the model classified the image correctly. \n",
    "\n",
    "#### Forcing the issue\n",
    "While SciKit learn will automatically optimize the classifiers approach, the user can override this with a OvO or OvR class contructor on top of the algorithm creation.  This will take any classifier and enforce the class type desired."
   ]
  },
  {
   "cell_type": "code",
   "execution_count": 63,
   "id": "892084e5",
   "metadata": {},
   "outputs": [],
   "source": [
    "from sklearn.multiclass import OneVsRestClassifier"
   ]
  },
  {
   "cell_type": "code",
   "execution_count": 64,
   "id": "e5246837",
   "metadata": {},
   "outputs": [],
   "source": [
    "ovr_clf = OneVsRestClassifier(SVC())"
   ]
  },
  {
   "cell_type": "code",
   "execution_count": 65,
   "id": "779b488e",
   "metadata": {},
   "outputs": [],
   "source": [
    "# ovr_clf.fit(X_train, y_train) # using all values vs y_train_5 for multiclass\n",
    "# ovr_clf.predict([examp_digit])"
   ]
  },
  {
   "cell_type": "code",
   "execution_count": 66,
   "id": "8925d737",
   "metadata": {},
   "outputs": [],
   "source": [
    "# len(ovr_clf.estimators_)"
   ]
  },
  {
   "cell_type": "markdown",
   "id": "7232eb10",
   "metadata": {},
   "source": [
    ">**NOTE**: Takes too long to run the above code with the SVC OvR classifier.  This might be the problem with using this kind of concept on a CPU bound machine. "
   ]
  },
  {
   "cell_type": "markdown",
   "id": "978fbcf7",
   "metadata": {},
   "source": [
    "#### Training an SGD Classifier\n",
    "Also done with very little code once the data is split correctly and ready to be evaluated by the algorithm."
   ]
  },
  {
   "cell_type": "code",
   "execution_count": 67,
   "id": "445cda39",
   "metadata": {},
   "outputs": [
    {
     "name": "stderr",
     "output_type": "stream",
     "text": [
      "c:\\users\\knhoffm\\.virtualenvs\\hands_on_ml\\lib\\site-packages\\sklearn\\base.py:439: UserWarning: X does not have valid feature names, but SGDClassifier was fitted with feature names\n",
      "  warnings.warn(\n"
     ]
    },
    {
     "data": {
      "text/plain": [
       "array([3], dtype=uint8)"
      ]
     },
     "execution_count": 67,
     "metadata": {},
     "output_type": "execute_result"
    }
   ],
   "source": [
    "sgd_clf.fit(X_train, y_train)\n",
    "sgd_clf.predict([examp_digit])"
   ]
  },
  {
   "cell_type": "code",
   "execution_count": 68,
   "id": "24626e9f",
   "metadata": {},
   "outputs": [
    {
     "name": "stderr",
     "output_type": "stream",
     "text": [
      "c:\\users\\knhoffm\\.virtualenvs\\hands_on_ml\\lib\\site-packages\\sklearn\\base.py:439: UserWarning: X does not have valid feature names, but SGDClassifier was fitted with feature names\n",
      "  warnings.warn(\n"
     ]
    },
    {
     "data": {
      "text/plain": [
       "array([[-31893.03095419, -34419.69069632,  -9530.63950739,\n",
       "          1823.73154031, -22320.14822878,  -1385.80478895,\n",
       "        -26188.91070951, -16147.51323997,  -4604.35491274,\n",
       "        -12050.767298  ]])"
      ]
     },
     "execution_count": 68,
     "metadata": {},
     "output_type": "execute_result"
    }
   ],
   "source": [
    "sgd_clf.decision_function([examp_digit])"
   ]
  },
  {
   "cell_type": "code",
   "execution_count": 69,
   "id": "1095c360",
   "metadata": {},
   "outputs": [
    {
     "data": {
      "text/plain": [
       "array([0.87365, 0.85835, 0.8689 ])"
      ]
     },
     "execution_count": 69,
     "metadata": {},
     "output_type": "execute_result"
    }
   ],
   "source": [
    "cross_val_score(sgd_clf, X_train, y_train, cv=3, scoring='accuracy', n_jobs=-1)"
   ]
  },
  {
   "cell_type": "markdown",
   "id": "e0701c56",
   "metadata": {},
   "source": [
    ">**NOTE**: This is a decent level of accuracy right out of the box.  Achieving above 85% accuracy on all three folds help validate the model.  This can be improved further with the application of a Standard Scaler to the inputs will improve the output."
   ]
  },
  {
   "cell_type": "code",
   "execution_count": 70,
   "id": "e49c2792",
   "metadata": {},
   "outputs": [],
   "source": [
    "from sklearn.preprocessing import StandardScaler"
   ]
  },
  {
   "cell_type": "code",
   "execution_count": 71,
   "id": "5424e1ee",
   "metadata": {},
   "outputs": [],
   "source": [
    "scaler = StandardScaler()"
   ]
  },
  {
   "cell_type": "code",
   "execution_count": 72,
   "id": "339aef4a",
   "metadata": {},
   "outputs": [],
   "source": [
    "X_train_scaled = scaler.fit_transform(X_train.astype(np.float64))"
   ]
  },
  {
   "cell_type": "code",
   "execution_count": 73,
   "id": "70b6f909",
   "metadata": {},
   "outputs": [
    {
     "data": {
      "text/plain": [
       "array([0.8983, 0.891 , 0.9018])"
      ]
     },
     "execution_count": 73,
     "metadata": {},
     "output_type": "execute_result"
    }
   ],
   "source": [
    "cross_val_score(sgd_clf, X_train_scaled, y_train, cv=3, scoring='accuracy', n_jobs=-1)"
   ]
  },
  {
   "cell_type": "markdown",
   "id": "a688f6be",
   "metadata": {},
   "source": [
    "### Error Analysis\n",
    "Assuming the normal process is followed for model exploration, once a promising candidate is located, the next step would be to pursue improving the model.  This can be accomadated through error analysis.  A model can be evaluated to understand what sorts of prediction errors it is making. \n",
    "\n",
    "To accomplish this, the model must be employed to make predictions across all of the classes needed for the classifier.  This should be done with the cross_val_predict function to minimize bias in the sample sets as described previously."
   ]
  },
  {
   "cell_type": "code",
   "execution_count": 74,
   "id": "f6e28c07",
   "metadata": {},
   "outputs": [],
   "source": [
    "y_train_pred = cross_val_predict(sgd_clf, X_train_scaled, y_train, cv=3, n_jobs=-1)"
   ]
  },
  {
   "cell_type": "code",
   "execution_count": 75,
   "id": "08216659",
   "metadata": {},
   "outputs": [
    {
     "data": {
      "text/plain": [
       "array([[5577,    0,   22,    5,    8,   43,   36,    6,  225,    1],\n",
       "       [   0, 6400,   37,   24,    4,   44,    4,    7,  212,   10],\n",
       "       [  27,   27, 5220,   92,   73,   27,   67,   36,  378,   11],\n",
       "       [  22,   17,  117, 5227,    2,  203,   27,   40,  403,   73],\n",
       "       [  12,   14,   41,    9, 5182,   12,   34,   27,  347,  164],\n",
       "       [  27,   15,   30,  168,   53, 4444,   75,   14,  535,   60],\n",
       "       [  30,   15,   42,    3,   44,   97, 5552,    3,  131,    1],\n",
       "       [  21,   10,   51,   30,   49,   12,    3, 5684,  195,  210],\n",
       "       [  17,   63,   48,   86,    3,  126,   25,   10, 5429,   44],\n",
       "       [  25,   18,   30,   64,  118,   36,    1,  179,  371, 5107]],\n",
       "      dtype=int64)"
      ]
     },
     "execution_count": 75,
     "metadata": {},
     "output_type": "execute_result"
    }
   ],
   "source": [
    "conf_mx = confusion_matrix(y_train, y_train_pred)\n",
    "conf_mx"
   ]
  },
  {
   "cell_type": "code",
   "execution_count": 76,
   "id": "6a7ce45d",
   "metadata": {},
   "outputs": [
    {
     "data": {
      "image/png": "[encoded data removed]",
      "text/plain": [
       "<Figure size 480x480 with 1 Axes>"
      ]
     },
     "metadata": {},
     "output_type": "display_data"
    }
   ],
   "source": [
    "plt.matshow(conf_mx, cmap='Greens', alpha = 1.0)\n",
    "plt.show()"
   ]
  },
  {
   "cell_type": "markdown",
   "id": "b12899be",
   "metadata": {},
   "source": [
    "#### Error Rates vs Absolute Error\n",
    "Above is the absolute error, which is a measure of how often the result is wrong across the population of each classification option.  It appears that the classifier puts most of the images into the correct category, which is why the main diagonal is darker than the rest.  To focus the view, the goal is to look specifically at the errors and find out which areas are least performant in the model.  To accomplis this divide the total number of images classified in each entry in the confusion matrix by the total number of images for the specific class.  This will yeild a ratio of classified images to total images by classification type.  We also zero the diagon to remove correctly classified images and show the plot again."
   ]
  },
  {
   "cell_type": "code",
   "execution_count": 77,
   "id": "a34c2239",
   "metadata": {},
   "outputs": [],
   "source": [
    "row_sums = conf_mx.sum(axis=1, keepdims=True)"
   ]
  },
  {
   "cell_type": "code",
   "execution_count": 78,
   "id": "e8612d7e",
   "metadata": {},
   "outputs": [],
   "source": [
    "norm_conf_mx = conf_mx/row_sums"
   ]
  },
  {
   "cell_type": "code",
   "execution_count": 79,
   "id": "1954dc04",
   "metadata": {},
   "outputs": [],
   "source": [
    "np.fill_diagonal(norm_conf_mx, 0)"
   ]
  },
  {
   "cell_type": "code",
   "execution_count": 80,
   "id": "b0c006fc",
   "metadata": {},
   "outputs": [
    {
     "data": {
      "image/png": "[encoded data removed]",
      "text/plain": [
       "<Figure size 480x480 with 1 Axes>"
      ]
     },
     "metadata": {},
     "output_type": "display_data"
    }
   ],
   "source": [
    "plt.matshow(norm_conf_mx, cmap='Greens', alpha=1.0)\n",
    "plt.show()"
   ]
  },
  {
   "cell_type": "markdown",
   "id": "f63aa7d9",
   "metadata": {},
   "source": [
    "#### Findings\n",
    "The areas which the models struggles are clear in the normalized view.  It classifies many diffent numbers as eights incorrectly, but it classifies eights relatively well as the row indicated.  Just looking at this output, it is clear that reducing the false eights is a good place to start optimizing the model.  The following are some potenital options to improve the model:\n",
    "- Get more data, sepcifically on numbers that look like eights which are not such as 3, 4 and 5.\n",
    "- Develop features to assist with the classification.  An example might be a feature which counts closed loops.\n",
    "- Preposs the images (i.e. the data) to make certain characteristics stand out more, such as the aforementioned closed loops.\n",
    "\n",
    "Another level of analysis is to analyze individual errors to see what specifically is being misclassified.  This can take much longer, and care should be taken when digging this deeply into non aggregated.  \n",
    "\n",
    "**Threes and Fives** are plotted below to see what types are miss classified each direction.  "
   ]
  },
  {
   "cell_type": "code",
   "execution_count": 81,
   "id": "9bee94b9",
   "metadata": {},
   "outputs": [],
   "source": [
    "# EXTRA\n",
    "def plot_digits(instances, images_per_row=10, **options):\n",
    "    size = 28\n",
    "    images_per_row = min(len(instances), images_per_row)\n",
    "    # This is equivalent to n_rows = ceil(len(instances) / images_per_row):\n",
    "    n_rows = (len(instances) - 1) // images_per_row + 1\n",
    "\n",
    "    # Append empty images to fill the end of the grid, if needed:\n",
    "    n_empty = n_rows * images_per_row - len(instances)\n",
    "    padded_instances = np.concatenate([instances, np.zeros((n_empty, size * size))], axis=0)\n",
    "\n",
    "    # Reshape the array so it's organized as a grid containing 28×28 images:\n",
    "    image_grid = padded_instances.reshape((n_rows, images_per_row, size, size))\n",
    "\n",
    "    # Combine axes 0 and 2 (vertical image grid axis, and vertical image axis),\n",
    "    # and axes 1 and 3 (horizontal axes). We first need to move the axes that we\n",
    "    # want to combine next to each other, using transpose(), and only then we\n",
    "    # can reshape:\n",
    "    big_image = image_grid.transpose(0, 2, 1, 3).reshape(n_rows * size,\n",
    "                                                         images_per_row * size)\n",
    "    # Now that we have a big image, we just need to show it:\n",
    "    plt.imshow(big_image, cmap = mpl.cm.binary, **options)\n",
    "    plt.axis(\"off\")"
   ]
  },
  {
   "cell_type": "code",
   "execution_count": 82,
   "id": "c4834f4a",
   "metadata": {},
   "outputs": [],
   "source": [
    "cl_a, cl_b = 3, 5\n",
    "X_aa = X_train[(y_train == cl_a)&(y_train_pred==cl_a)]\n",
    "X_ab = X_train[(y_train == cl_a)&(y_train_pred==cl_b)]\n",
    "X_ba = X_train[(y_train == cl_b)&(y_train_pred==cl_a)]\n",
    "X_bb = X_train[(y_train == cl_b)&(y_train_pred==cl_b)]"
   ]
  },
  {
   "cell_type": "code",
   "execution_count": 83,
   "id": "b2816ff1",
   "metadata": {},
   "outputs": [
    {
     "data": {
      "image/png": "[encoded data removed]",
      "text/plain": [
       "<Figure size 800x800 with 4 Axes>"
      ]
     },
     "metadata": {},
     "output_type": "display_data"
    }
   ],
   "source": [
    "plt.figure(figsize=(8,8))\n",
    "plt.subplot(221); plot_digits(X_aa[:25], images_per_row=5)\n",
    "plt.subplot(222); plot_digits(X_ab[:25], images_per_row=5)\n",
    "plt.subplot(223); plot_digits(X_ba[:25], images_per_row=5)\n",
    "plt.subplot(224); plot_digits(X_bb[:25], images_per_row=5)"
   ]
  },
  {
   "cell_type": "markdown",
   "id": "55b7a791",
   "metadata": {},
   "source": [
    "#### Specific Errors\n",
    "The quadrents above display groups of correctly and incorrectly classified catagories.\n",
    "- **Top Left:** Threes (3) classified as threes (3)\n",
    "- **Bottom Left:** Fives (5) classified as threes (3)\n",
    "- **Top Right:** Threes (3) classified as fives (5)\n",
    "- **Bottom Right:** Fives (5) classified as fives (5)\n",
    "\n",
    "In some instances, the models mistakes is understandable.  The first row second column 5 classified as a three actually looks more like a three.  In other instances, the issues is not obvious.  The reason this model makes mistakes is that it is a basic liner model.  \n",
    "> SGD Classifier assigns a weight per class to each pixel (pixel position x/y has this weight).  When it evaluates a new image it totals the pixel intensities and gets a score for the image and assigns the probabilistic class.  It is a pixel weight counter.  It  is understandable that 3s and 5s could get mixed up on this approach. \n",
    "\n",
    "This classifier is, understandable, sensitive to image shifting (positionally off center in any direction) and rotation since it is looking a pixel intensities.  One potential remedy is the preprocess the images to ensure these types of affects are minimized for each image. "
   ]
  },
  {
   "cell_type": "markdown",
   "id": "e201aaaa",
   "metadata": {},
   "source": [
    "### Multilabel Classification\n",
    "Up to this point, each instance of data was only assigned to one class.  In some cases it might be valuable to have a classifier output multiple classes for each instance.  In a facial recognition system, it might be needed to evaluate images of more than one person.  In this cases the classifier should identified the people in the image and classify the images as having two, or more, people, such as Alice and Bob, but not Charlie.  This is a multilabel classifier.  \n",
    "\n",
    "No facial recognition (yet), but a simple example would be to classify a record as greater than a certain value and odd for the image classifier."
   ]
  },
  {
   "cell_type": "code",
   "execution_count": 84,
   "id": "a46d8054",
   "metadata": {},
   "outputs": [],
   "source": [
    "from sklearn.neighbors import KNeighborsClassifier"
   ]
  },
  {
   "cell_type": "code",
   "execution_count": 85,
   "id": "66778a88",
   "metadata": {},
   "outputs": [],
   "source": [
    "# filter the data\n",
    "y_train_large = (y_train >= 7)\n",
    "y_train_odd = (y_train % 2 == 1)"
   ]
  },
  {
   "cell_type": "code",
   "execution_count": 86,
   "id": "4834e74d",
   "metadata": {},
   "outputs": [],
   "source": [
    "y_multilabel = np.c_[y_train_large, y_train_odd] # converts into on long array"
   ]
  },
  {
   "cell_type": "code",
   "execution_count": 87,
   "id": "de24e179",
   "metadata": {},
   "outputs": [
    {
     "data": {
      "text/html": [
       "<style>#sk-container-id-2 {color: black;background-color: white;}#sk-container-id-2 pre{padding: 0;}#sk-container-id-2 div.sk-toggleable {background-color: white;}#sk-container-id-2 label.sk-toggleable__label {cursor: pointer;display: block;width: 100%;margin-bottom: 0;padding: 0.3em;box-sizing: border-box;text-align: center;}#sk-container-id-2 label.sk-toggleable__label-arrow:before {content: \"▸\";float: left;margin-right: 0.25em;color: #696969;}#sk-container-id-2 label.sk-toggleable__label-arrow:hover:before {color: black;}#sk-container-id-2 div.sk-estimator:hover label.sk-toggleable__label-arrow:before {color: black;}#sk-container-id-2 div.sk-toggleable__content {max-height: 0;max-width: 0;overflow: hidden;text-align: left;background-color: #f0f8ff;}#sk-container-id-2 div.sk-toggleable__content pre {margin: 0.2em;color: black;border-radius: 0.25em;background-color: #f0f8ff;}#sk-container-id-2 input.sk-toggleable__control:checked~div.sk-toggleable__content {max-height: 200px;max-width: 100%;overflow: auto;}#sk-container-id-2 input.sk-toggleable__control:checked~label.sk-toggleable__label-arrow:before {content: \"▾\";}#sk-container-id-2 div.sk-estimator input.sk-toggleable__control:checked~label.sk-toggleable__label {background-color: #d4ebff;}#sk-container-id-2 div.sk-label input.sk-toggleable__control:checked~label.sk-toggleable__label {background-color: #d4ebff;}#sk-container-id-2 input.sk-hidden--visually {border: 0;clip: rect(1px 1px 1px 1px);clip: rect(1px, 1px, 1px, 1px);height: 1px;margin: -1px;overflow: hidden;padding: 0;position: absolute;width: 1px;}#sk-container-id-2 div.sk-estimator {font-family: monospace;background-color: #f0f8ff;border: 1px dotted black;border-radius: 0.25em;box-sizing: border-box;margin-bottom: 0.5em;}#sk-container-id-2 div.sk-estimator:hover {background-color: #d4ebff;}#sk-container-id-2 div.sk-parallel-item::after {content: \"\";width: 100%;border-bottom: 1px solid gray;flex-grow: 1;}#sk-container-id-2 div.sk-label:hover label.sk-toggleable__label {background-color: #d4ebff;}#sk-container-id-2 div.sk-serial::before {content: \"\";position: absolute;border-left: 1px solid gray;box-sizing: border-box;top: 0;bottom: 0;left: 50%;z-index: 0;}#sk-container-id-2 div.sk-serial {display: flex;flex-direction: column;align-items: center;background-color: white;padding-right: 0.2em;padding-left: 0.2em;position: relative;}#sk-container-id-2 div.sk-item {position: relative;z-index: 1;}#sk-container-id-2 div.sk-parallel {display: flex;align-items: stretch;justify-content: center;background-color: white;position: relative;}#sk-container-id-2 div.sk-item::before, #sk-container-id-2 div.sk-parallel-item::before {content: \"\";position: absolute;border-left: 1px solid gray;box-sizing: border-box;top: 0;bottom: 0;left: 50%;z-index: -1;}#sk-container-id-2 div.sk-parallel-item {display: flex;flex-direction: column;z-index: 1;position: relative;background-color: white;}#sk-container-id-2 div.sk-parallel-item:first-child::after {align-self: flex-end;width: 50%;}#sk-container-id-2 div.sk-parallel-item:last-child::after {align-self: flex-start;width: 50%;}#sk-container-id-2 div.sk-parallel-item:only-child::after {width: 0;}#sk-container-id-2 div.sk-dashed-wrapped {border: 1px dashed gray;margin: 0 0.4em 0.5em 0.4em;box-sizing: border-box;padding-bottom: 0.4em;background-color: white;}#sk-container-id-2 div.sk-label label {font-family: monospace;font-weight: bold;display: inline-block;line-height: 1.2em;}#sk-container-id-2 div.sk-label-container {text-align: center;}#sk-container-id-2 div.sk-container {/* jupyter's `normalize.less` sets `[hidden] { display: none; }` but bootstrap.min.css set `[hidden] { display: none !important; }` so we also need the `!important` here to be able to override the default hidden behavior on the sphinx rendered scikit-learn.org. See: https://github.com/scikit-learn/scikit-learn/issues/21755 */display: inline-block !important;position: relative;}#sk-container-id-2 div.sk-text-repr-fallback {display: none;}</style><div id=\"sk-container-id-2\" class=\"sk-top-container\"><div class=\"sk-text-repr-fallback\"><pre>KNeighborsClassifier()</pre><b>In a Jupyter environment, please rerun this cell to show the HTML representation or trust the notebook. <br />On GitHub, the HTML representation is unable to render, please try loading this page with nbviewer.org.</b></div><div class=\"sk-container\" hidden><div class=\"sk-item\"><div class=\"sk-estimator sk-toggleable\"><input class=\"sk-toggleable__control sk-hidden--visually\" id=\"sk-estimator-id-2\" type=\"checkbox\" checked><label for=\"sk-estimator-id-2\" class=\"sk-toggleable__label sk-toggleable__label-arrow\">KNeighborsClassifier</label><div class=\"sk-toggleable__content\"><pre>KNeighborsClassifier()</pre></div></div></div></div></div>"
      ],
      "text/plain": [
       "KNeighborsClassifier()"
      ]
     },
     "execution_count": 87,
     "metadata": {},
     "output_type": "execute_result"
    }
   ],
   "source": [
    "knn_clf = KNeighborsClassifier()\n",
    "knn_clf.fit(X_train, y_multilabel)"
   ]
  },
  {
   "cell_type": "code",
   "execution_count": 88,
   "id": "2e8520c0",
   "metadata": {},
   "outputs": [
    {
     "name": "stderr",
     "output_type": "stream",
     "text": [
      "c:\\users\\knhoffm\\.virtualenvs\\hands_on_ml\\lib\\site-packages\\sklearn\\base.py:439: UserWarning: X does not have valid feature names, but KNeighborsClassifier was fitted with feature names\n",
      "  warnings.warn(\n"
     ]
    },
    {
     "data": {
      "text/plain": [
       "array([[False,  True]])"
      ]
     },
     "execution_count": 88,
     "metadata": {},
     "output_type": "execute_result"
    }
   ],
   "source": [
    "knn_clf.predict([examp_digit]) # Result examp_digit > 7 False, examp_digit % 2 == 1 True]"
   ]
  },
  {
   "cell_type": "markdown",
   "id": "ac527e5f",
   "metadata": {},
   "source": [
    ">**NOTE**: There are many way to evaluate a multilabel classifier.  In particular, one label may hold more weight, and should be considered in such a manner.  Another is to simply average across the F1 scores."
   ]
  },
  {
   "cell_type": "code",
   "execution_count": 89,
   "id": "0c897d46",
   "metadata": {},
   "outputs": [],
   "source": [
    "y_train_knn_pred = cross_val_predict(knn_clf, X_train, y_multilabel, cv=3, n_jobs=-1)"
   ]
  },
  {
   "cell_type": "code",
   "execution_count": 90,
   "id": "9e8919c5",
   "metadata": {},
   "outputs": [
    {
     "data": {
      "text/plain": [
       "0.976410265560605"
      ]
     },
     "execution_count": 90,
     "metadata": {},
     "output_type": "execute_result"
    }
   ],
   "source": [
    "f1_score(y_multilabel, y_train_knn_pred, average='macro') # general average F1"
   ]
  },
  {
   "cell_type": "code",
   "execution_count": 91,
   "id": "a5ecfded",
   "metadata": {},
   "outputs": [
    {
     "data": {
      "text/plain": [
       "0.9778357403921755"
      ]
     },
     "execution_count": 91,
     "metadata": {},
     "output_type": "execute_result"
    }
   ],
   "source": [
    "f1_score(y_multilabel, y_train_knn_pred, average='weighted') # weighted average F1 based on instances"
   ]
  },
  {
   "cell_type": "markdown",
   "id": "07ef7f35",
   "metadata": {},
   "source": [
    "### Multioutput Classification\n",
    "Multioutput-MultiClass Classification (or Multioutput classification) is a generalization of multilabel classification where each label can be multiclass.  This means the label can have more than two possible classes. What does this mean in practice?  \n",
    "\n",
    "In the example below, the existing images from the pixel intensity data for each number are made noisy.  The labels/targets are then reassigned to the original pixel sets without noise (more or less).  The model is fit, and Predictions are then made against the noisy data to determine if the model can output corrected pixel intensity values across the entire pixel set.  This is a multioutput classification since each pixel location gets a predicted pixel intensity value. 28 x 28 pixels get 28 x 28 predictions.  Time to test (reproduced from book and github):"
   ]
  },
  {
   "cell_type": "code",
   "execution_count": 92,
   "id": "de9c8a70",
   "metadata": {},
   "outputs": [],
   "source": [
    "# adding noise to original train and test features\n",
    "noise = np.random.randint(0, 100, (len(X_train), 784))\n",
    "X_train_mod = X_train + noise\n",
    "noise = np.random.randint(0, 100, (len(X_test), 784))\n",
    "X_test_mod = X_test + noise"
   ]
  },
  {
   "cell_type": "code",
   "execution_count": 93,
   "id": "14f4d74f",
   "metadata": {},
   "outputs": [],
   "source": [
    "# reseting targets to be original features for single classification problem; pixel values without noise \n",
    "y_train_mod = X_train\n",
    "y_test_mod = X_test"
   ]
  },
  {
   "cell_type": "code",
   "execution_count": 95,
   "id": "7e8eac72",
   "metadata": {},
   "outputs": [],
   "source": [
    "def plot_digit(data):\n",
    "    image = data.reshape(28, 28)\n",
    "    plt.imshow(image, cmap = mpl.cm.binary,\n",
    "               interpolation=\"nearest\")\n",
    "    plt.axis(\"off\")"
   ]
  },
  {
   "cell_type": "code",
   "execution_count": 116,
   "id": "22dab87a",
   "metadata": {},
   "outputs": [
    {
     "data": {
      "image/png": "[encoded data removed]",
      "text/plain": [
       "<Figure size 640x480 with 2 Axes>"
      ]
     },
     "metadata": {},
     "output_type": "display_data"
    }
   ],
   "source": [
    "# quick peek behind the curtain to see a digit comparison between noisy and clean\n",
    "some_index = 0\n",
    "# plt.figure(figsize=(8,4))\n",
    "plt.subplot(121); plot_digit(X_test_mod.iloc[some_index].values)\n",
    "plt.subplot(122); plot_digit(y_test_mod.iloc[some_index].values)\n",
    "# save_fig(\"noisy_digit_example_plot\")\n",
    "plt.show()"
   ]
  },
  {
   "cell_type": "code",
   "execution_count": 117,
   "id": "67dc10c1",
   "metadata": {},
   "outputs": [
    {
     "data": {
      "text/html": [
       "<style>#sk-container-id-4 {color: black;background-color: white;}#sk-container-id-4 pre{padding: 0;}#sk-container-id-4 div.sk-toggleable {background-color: white;}#sk-container-id-4 label.sk-toggleable__label {cursor: pointer;display: block;width: 100%;margin-bottom: 0;padding: 0.3em;box-sizing: border-box;text-align: center;}#sk-container-id-4 label.sk-toggleable__label-arrow:before {content: \"▸\";float: left;margin-right: 0.25em;color: #696969;}#sk-container-id-4 label.sk-toggleable__label-arrow:hover:before {color: black;}#sk-container-id-4 div.sk-estimator:hover label.sk-toggleable__label-arrow:before {color: black;}#sk-container-id-4 div.sk-toggleable__content {max-height: 0;max-width: 0;overflow: hidden;text-align: left;background-color: #f0f8ff;}#sk-container-id-4 div.sk-toggleable__content pre {margin: 0.2em;color: black;border-radius: 0.25em;background-color: #f0f8ff;}#sk-container-id-4 input.sk-toggleable__control:checked~div.sk-toggleable__content {max-height: 200px;max-width: 100%;overflow: auto;}#sk-container-id-4 input.sk-toggleable__control:checked~label.sk-toggleable__label-arrow:before {content: \"▾\";}#sk-container-id-4 div.sk-estimator input.sk-toggleable__control:checked~label.sk-toggleable__label {background-color: #d4ebff;}#sk-container-id-4 div.sk-label input.sk-toggleable__control:checked~label.sk-toggleable__label {background-color: #d4ebff;}#sk-container-id-4 input.sk-hidden--visually {border: 0;clip: rect(1px 1px 1px 1px);clip: rect(1px, 1px, 1px, 1px);height: 1px;margin: -1px;overflow: hidden;padding: 0;position: absolute;width: 1px;}#sk-container-id-4 div.sk-estimator {font-family: monospace;background-color: #f0f8ff;border: 1px dotted black;border-radius: 0.25em;box-sizing: border-box;margin-bottom: 0.5em;}#sk-container-id-4 div.sk-estimator:hover {background-color: #d4ebff;}#sk-container-id-4 div.sk-parallel-item::after {content: \"\";width: 100%;border-bottom: 1px solid gray;flex-grow: 1;}#sk-container-id-4 div.sk-label:hover label.sk-toggleable__label {background-color: #d4ebff;}#sk-container-id-4 div.sk-serial::before {content: \"\";position: absolute;border-left: 1px solid gray;box-sizing: border-box;top: 0;bottom: 0;left: 50%;z-index: 0;}#sk-container-id-4 div.sk-serial {display: flex;flex-direction: column;align-items: center;background-color: white;padding-right: 0.2em;padding-left: 0.2em;position: relative;}#sk-container-id-4 div.sk-item {position: relative;z-index: 1;}#sk-container-id-4 div.sk-parallel {display: flex;align-items: stretch;justify-content: center;background-color: white;position: relative;}#sk-container-id-4 div.sk-item::before, #sk-container-id-4 div.sk-parallel-item::before {content: \"\";position: absolute;border-left: 1px solid gray;box-sizing: border-box;top: 0;bottom: 0;left: 50%;z-index: -1;}#sk-container-id-4 div.sk-parallel-item {display: flex;flex-direction: column;z-index: 1;position: relative;background-color: white;}#sk-container-id-4 div.sk-parallel-item:first-child::after {align-self: flex-end;width: 50%;}#sk-container-id-4 div.sk-parallel-item:last-child::after {align-self: flex-start;width: 50%;}#sk-container-id-4 div.sk-parallel-item:only-child::after {width: 0;}#sk-container-id-4 div.sk-dashed-wrapped {border: 1px dashed gray;margin: 0 0.4em 0.5em 0.4em;box-sizing: border-box;padding-bottom: 0.4em;background-color: white;}#sk-container-id-4 div.sk-label label {font-family: monospace;font-weight: bold;display: inline-block;line-height: 1.2em;}#sk-container-id-4 div.sk-label-container {text-align: center;}#sk-container-id-4 div.sk-container {/* jupyter's `normalize.less` sets `[hidden] { display: none; }` but bootstrap.min.css set `[hidden] { display: none !important; }` so we also need the `!important` here to be able to override the default hidden behavior on the sphinx rendered scikit-learn.org. See: https://github.com/scikit-learn/scikit-learn/issues/21755 */display: inline-block !important;position: relative;}#sk-container-id-4 div.sk-text-repr-fallback {display: none;}</style><div id=\"sk-container-id-4\" class=\"sk-top-container\"><div class=\"sk-text-repr-fallback\"><pre>KNeighborsClassifier()</pre><b>In a Jupyter environment, please rerun this cell to show the HTML representation or trust the notebook. <br />On GitHub, the HTML representation is unable to render, please try loading this page with nbviewer.org.</b></div><div class=\"sk-container\" hidden><div class=\"sk-item\"><div class=\"sk-estimator sk-toggleable\"><input class=\"sk-toggleable__control sk-hidden--visually\" id=\"sk-estimator-id-4\" type=\"checkbox\" checked><label for=\"sk-estimator-id-4\" class=\"sk-toggleable__label sk-toggleable__label-arrow\">KNeighborsClassifier</label><div class=\"sk-toggleable__content\"><pre>KNeighborsClassifier()</pre></div></div></div></div></div>"
      ],
      "text/plain": [
       "KNeighborsClassifier()"
      ]
     },
     "execution_count": 117,
     "metadata": {},
     "output_type": "execute_result"
    }
   ],
   "source": [
    "knn_clf.fit(X_train_mod, y_train_mod)"
   ]
  },
  {
   "cell_type": "code",
   "execution_count": 118,
   "id": "2e822798",
   "metadata": {},
   "outputs": [
    {
     "name": "stderr",
     "output_type": "stream",
     "text": [
      "c:\\users\\knhoffm\\.virtualenvs\\hands_on_ml\\lib\\site-packages\\sklearn\\base.py:439: UserWarning: X does not have valid feature names, but KNeighborsClassifier was fitted with feature names\n",
      "  warnings.warn(\n"
     ]
    }
   ],
   "source": [
    "clean_digit = knn_clf.predict([X_test_mod.iloc[some_index]])"
   ]
  },
  {
   "cell_type": "code",
   "execution_count": 119,
   "id": "8339bc58",
   "metadata": {},
   "outputs": [
    {
     "data": {
      "image/png": "[encoded data removed]",
      "text/plain": [
       "<Figure size 640x480 with 1 Axes>"
      ]
     },
     "metadata": {},
     "output_type": "display_data"
    }
   ],
   "source": [
    "plot_digit(clean_digit)"
   ]
  },
  {
   "cell_type": "code",
   "execution_count": null,
   "id": "7fe70234",
   "metadata": {},
   "outputs": [],
   "source": []
  }
 ],
 "metadata": {
  "kernelspec": {
   "display_name": "Python 3 (ipykernel)",
   "language": "python",
   "name": "python3"
  },
  "language_info": {
   "codemirror_mode": {
    "name": "ipython",
    "version": 3
   },
   "file_extension": ".py",
   "mimetype": "text/x-python",
   "name": "python",
   "nbconvert_exporter": "python",
   "pygments_lexer": "ipython3",
   "version": "3.9.1"
  }
 },
 "nbformat": 4,
 "nbformat_minor": 5
}
